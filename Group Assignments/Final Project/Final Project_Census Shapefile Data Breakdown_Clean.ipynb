{
 "cells": [
  {
   "cell_type": "markdown",
   "metadata": {},
   "source": [
    "# Census Shapefile Breakdown\n",
    "\n",
    "The purpose of this notebook file is the break down the HUGE census data shapefile into individual shapefiles for autonomous communities, provinces, and municipalities. We can then use those smaller shapefiles for data exploration in other notebooks. "
   ]
  },
  {
   "cell_type": "markdown",
   "metadata": {},
   "source": [
    "## Import libraries"
   ]
  },
  {
   "cell_type": "code",
   "execution_count": 3,
   "metadata": {},
   "outputs": [],
   "source": [
    "import geopandas as gpd\n",
    "import pandas as pd"
   ]
  },
  {
   "cell_type": "markdown",
   "metadata": {},
   "source": [
    "## Import Shapefile, explore data"
   ]
  },
  {
   "cell_type": "code",
   "execution_count": 4,
   "metadata": {},
   "outputs": [],
   "source": [
    "cd = gpd.read_file('Data/SECC_CPV_E_20111101_01_R_INE.shp')"
   ]
  },
  {
   "cell_type": "code",
   "execution_count": 5,
   "metadata": {
    "scrolled": true
   },
   "outputs": [
    {
     "data": {
      "text/html": [
       "<div>\n",
       "<style scoped>\n",
       "    .dataframe tbody tr th:only-of-type {\n",
       "        vertical-align: middle;\n",
       "    }\n",
       "\n",
       "    .dataframe tbody tr th {\n",
       "        vertical-align: top;\n",
       "    }\n",
       "\n",
       "    .dataframe thead th {\n",
       "        text-align: right;\n",
       "    }\n",
       "</style>\n",
       "<table border=\"1\" class=\"dataframe\">\n",
       "  <thead>\n",
       "    <tr style=\"text-align: right;\">\n",
       "      <th></th>\n",
       "      <th>OBJECTID</th>\n",
       "      <th>CUSEC</th>\n",
       "      <th>CUMUN</th>\n",
       "      <th>CSEC</th>\n",
       "      <th>CDIS</th>\n",
       "      <th>CMUN</th>\n",
       "      <th>CPRO</th>\n",
       "      <th>CCA</th>\n",
       "      <th>CUDIS</th>\n",
       "      <th>OBS</th>\n",
       "      <th>...</th>\n",
       "      <th>CNUT2</th>\n",
       "      <th>CNUT3</th>\n",
       "      <th>CLAU2</th>\n",
       "      <th>NPRO</th>\n",
       "      <th>NCA</th>\n",
       "      <th>NMUN</th>\n",
       "      <th>Shape_Leng</th>\n",
       "      <th>Shape_area</th>\n",
       "      <th>Shape_len</th>\n",
       "      <th>geometry</th>\n",
       "    </tr>\n",
       "  </thead>\n",
       "  <tbody>\n",
       "    <tr>\n",
       "      <th>0</th>\n",
       "      <td>1</td>\n",
       "      <td>0100101001</td>\n",
       "      <td>01001</td>\n",
       "      <td>001</td>\n",
       "      <td>01</td>\n",
       "      <td>001</td>\n",
       "      <td>01</td>\n",
       "      <td>16</td>\n",
       "      <td>0100101</td>\n",
       "      <td>None</td>\n",
       "      <td>...</td>\n",
       "      <td>1</td>\n",
       "      <td>1</td>\n",
       "      <td>01001</td>\n",
       "      <td>Araba/Álava</td>\n",
       "      <td>País Vasco</td>\n",
       "      <td>Alegría-Dulantzi</td>\n",
       "      <td>34474.734278</td>\n",
       "      <td>1.551393e+07</td>\n",
       "      <td>34474.734278</td>\n",
       "      <td>MULTIPOLYGON (((541571.209 4745050.120, 541581...</td>\n",
       "    </tr>\n",
       "    <tr>\n",
       "      <th>1</th>\n",
       "      <td>2</td>\n",
       "      <td>0100101002</td>\n",
       "      <td>01001</td>\n",
       "      <td>002</td>\n",
       "      <td>01</td>\n",
       "      <td>001</td>\n",
       "      <td>01</td>\n",
       "      <td>16</td>\n",
       "      <td>0100101</td>\n",
       "      <td>None</td>\n",
       "      <td>...</td>\n",
       "      <td>1</td>\n",
       "      <td>1</td>\n",
       "      <td>01001</td>\n",
       "      <td>Araba/Álava</td>\n",
       "      <td>País Vasco</td>\n",
       "      <td>Alegría-Dulantzi</td>\n",
       "      <td>8620.042319</td>\n",
       "      <td>4.410972e+06</td>\n",
       "      <td>8620.042319</td>\n",
       "      <td>POLYGON ((541370.963 4745058.623, 541371.018 4...</td>\n",
       "    </tr>\n",
       "    <tr>\n",
       "      <th>2</th>\n",
       "      <td>3</td>\n",
       "      <td>0100201001</td>\n",
       "      <td>01002</td>\n",
       "      <td>001</td>\n",
       "      <td>01</td>\n",
       "      <td>002</td>\n",
       "      <td>01</td>\n",
       "      <td>16</td>\n",
       "      <td>0100201</td>\n",
       "      <td>None</td>\n",
       "      <td>...</td>\n",
       "      <td>1</td>\n",
       "      <td>1</td>\n",
       "      <td>01002</td>\n",
       "      <td>Araba/Álava</td>\n",
       "      <td>País Vasco</td>\n",
       "      <td>Amurrio</td>\n",
       "      <td>47379.027701</td>\n",
       "      <td>3.535737e+07</td>\n",
       "      <td>47379.027700</td>\n",
       "      <td>MULTIPOLYGON (((503618.553 4759559.798, 503620...</td>\n",
       "    </tr>\n",
       "    <tr>\n",
       "      <th>3</th>\n",
       "      <td>4</td>\n",
       "      <td>0100201002</td>\n",
       "      <td>01002</td>\n",
       "      <td>002</td>\n",
       "      <td>01</td>\n",
       "      <td>002</td>\n",
       "      <td>01</td>\n",
       "      <td>16</td>\n",
       "      <td>0100201</td>\n",
       "      <td>None</td>\n",
       "      <td>...</td>\n",
       "      <td>1</td>\n",
       "      <td>1</td>\n",
       "      <td>01002</td>\n",
       "      <td>Araba/Álava</td>\n",
       "      <td>País Vasco</td>\n",
       "      <td>Amurrio</td>\n",
       "      <td>31169.713203</td>\n",
       "      <td>3.873652e+07</td>\n",
       "      <td>31169.713203</td>\n",
       "      <td>POLYGON ((508942.568 4765890.674, 508947.599 4...</td>\n",
       "    </tr>\n",
       "    <tr>\n",
       "      <th>4</th>\n",
       "      <td>5</td>\n",
       "      <td>0100201003</td>\n",
       "      <td>01002</td>\n",
       "      <td>003</td>\n",
       "      <td>01</td>\n",
       "      <td>002</td>\n",
       "      <td>01</td>\n",
       "      <td>16</td>\n",
       "      <td>0100201</td>\n",
       "      <td>None</td>\n",
       "      <td>...</td>\n",
       "      <td>1</td>\n",
       "      <td>1</td>\n",
       "      <td>01002</td>\n",
       "      <td>Araba/Álava</td>\n",
       "      <td>País Vasco</td>\n",
       "      <td>Amurrio</td>\n",
       "      <td>4244.249418</td>\n",
       "      <td>8.494741e+05</td>\n",
       "      <td>4244.249418</td>\n",
       "      <td>POLYGON ((499919.497 4766600.281, 499849.092 4...</td>\n",
       "    </tr>\n",
       "  </tbody>\n",
       "</table>\n",
       "<p>5 rows × 22 columns</p>\n",
       "</div>"
      ],
      "text/plain": [
       "   OBJECTID       CUSEC  CUMUN CSEC CDIS CMUN CPRO CCA    CUDIS   OBS  ...  \\\n",
       "0         1  0100101001  01001  001   01  001   01  16  0100101  None  ...   \n",
       "1         2  0100101002  01001  002   01  001   01  16  0100101  None  ...   \n",
       "2         3  0100201001  01002  001   01  002   01  16  0100201  None  ...   \n",
       "3         4  0100201002  01002  002   01  002   01  16  0100201  None  ...   \n",
       "4         5  0100201003  01002  003   01  002   01  16  0100201  None  ...   \n",
       "\n",
       "  CNUT2 CNUT3  CLAU2         NPRO         NCA              NMUN    Shape_Leng  \\\n",
       "0     1     1  01001  Araba/Álava  País Vasco  Alegría-Dulantzi  34474.734278   \n",
       "1     1     1  01001  Araba/Álava  País Vasco  Alegría-Dulantzi   8620.042319   \n",
       "2     1     1  01002  Araba/Álava  País Vasco           Amurrio  47379.027701   \n",
       "3     1     1  01002  Araba/Álava  País Vasco           Amurrio  31169.713203   \n",
       "4     1     1  01002  Araba/Álava  País Vasco           Amurrio   4244.249418   \n",
       "\n",
       "     Shape_area     Shape_len  \\\n",
       "0  1.551393e+07  34474.734278   \n",
       "1  4.410972e+06   8620.042319   \n",
       "2  3.535737e+07  47379.027700   \n",
       "3  3.873652e+07  31169.713203   \n",
       "4  8.494741e+05   4244.249418   \n",
       "\n",
       "                                            geometry  \n",
       "0  MULTIPOLYGON (((541571.209 4745050.120, 541581...  \n",
       "1  POLYGON ((541370.963 4745058.623, 541371.018 4...  \n",
       "2  MULTIPOLYGON (((503618.553 4759559.798, 503620...  \n",
       "3  POLYGON ((508942.568 4765890.674, 508947.599 4...  \n",
       "4  POLYGON ((499919.497 4766600.281, 499849.092 4...  \n",
       "\n",
       "[5 rows x 22 columns]"
      ]
     },
     "execution_count": 5,
     "metadata": {},
     "output_type": "execute_result"
    }
   ],
   "source": [
    "cd.head()"
   ]
  },
  {
   "cell_type": "code",
   "execution_count": 6,
   "metadata": {},
   "outputs": [
    {
     "data": {
      "text/plain": [
       "(35960, 22)"
      ]
     },
     "execution_count": 6,
     "metadata": {},
     "output_type": "execute_result"
    }
   ],
   "source": [
    "cd.shape"
   ]
  },
  {
   "cell_type": "markdown",
   "metadata": {},
   "source": [
    "## Create individual shape files "
   ]
  },
  {
   "cell_type": "markdown",
   "metadata": {},
   "source": [
    "Create individual file for province spatial data"
   ]
  },
  {
   "cell_type": "code",
   "execution_count": 4,
   "metadata": {},
   "outputs": [],
   "source": [
    "# Create an output path for province data\n",
    "pr_out = \"Data/spain_provinces.shp\"\n",
    "\n",
    "# Dissolve dataframe to get provinces\n",
    "pr = cd.dissolve(by='NPRO')\n",
    "\n",
    "# Write those rows into a new Shapefile (the default output file format is Shapefile)\n",
    "pr.to_file(pr_out)"
   ]
  },
  {
   "cell_type": "markdown",
   "metadata": {},
   "source": [
    "Create individual file for autonomous community data"
   ]
  },
  {
   "cell_type": "code",
   "execution_count": 5,
   "metadata": {
    "scrolled": true
   },
   "outputs": [],
   "source": [
    "# Create an output path for autonomous community data\n",
    "ac_out = \"Data/spain_autonomous communities.shp\"\n",
    "\n",
    "# Dissolve dataframe to get autonomous communities\n",
    "ac = cd.dissolve(by='NCA')\n",
    "\n",
    "# Write to new shapefile\n",
    "ac.to_file(ac_out)"
   ]
  },
  {
   "cell_type": "markdown",
   "metadata": {},
   "source": [
    "Create individual file for municipality data"
   ]
  },
  {
   "cell_type": "code",
   "execution_count": 6,
   "metadata": {},
   "outputs": [],
   "source": [
    "# Create an output path for municipality data\n",
    "mun_out = \"Data/spain_municipalities.shp\"\n",
    "\n",
    "# Dissolve dataframe to get municipalities\n",
    "mun = cd.dissolve(by='NMUN')\n",
    "\n",
    "# Write to new shapefile\n",
    "mun.to_file(mun_out)"
   ]
  },
  {
   "cell_type": "markdown",
   "metadata": {},
   "source": [
    "Create individual file for barcelona census sections"
   ]
  },
  {
   "cell_type": "code",
   "execution_count": 7,
   "metadata": {},
   "outputs": [],
   "source": [
    "# Create an output path for municipality data\n",
    "barcs_out = \"Data/spain_barcelona_census sections.shp\"\n",
    "\n",
    "# Pull out the data from the Barcelona municipality\n",
    "barcs = cd.query(\"NMUN == 'Barcelona'\")\n",
    "\n",
    "# Write to new shapefile\n",
    "barcs.to_file(barcs_out)"
   ]
  },
  {
   "cell_type": "code",
   "execution_count": null,
   "metadata": {},
   "outputs": [],
   "source": []
  }
 ],
 "metadata": {
  "kernelspec": {
   "display_name": "Python 3",
   "language": "python",
   "name": "python3"
  },
  "language_info": {
   "codemirror_mode": {
    "name": "ipython",
    "version": 3
   },
   "file_extension": ".py",
   "mimetype": "text/x-python",
   "name": "python",
   "nbconvert_exporter": "python",
   "pygments_lexer": "ipython3",
   "version": "3.8.5"
  },
  "toc": {
   "base_numbering": 1,
   "nav_menu": {},
   "number_sections": true,
   "sideBar": true,
   "skip_h1_title": false,
   "title_cell": "Table of Contents",
   "title_sidebar": "Contents",
   "toc_cell": false,
   "toc_position": {},
   "toc_section_display": true,
   "toc_window_display": false
  }
 },
 "nbformat": 4,
 "nbformat_minor": 4
}
