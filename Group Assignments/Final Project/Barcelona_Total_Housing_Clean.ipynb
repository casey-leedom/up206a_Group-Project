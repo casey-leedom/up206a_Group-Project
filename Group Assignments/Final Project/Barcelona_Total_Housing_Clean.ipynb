{
 "cells": [
  {
   "cell_type": "markdown",
   "metadata": {},
   "source": [
    "# Barcelona Total Housing\n",
    "\n",
    "This is working code that cleans the property type data to give us the total number of housing properties by barri in Barcelona. It exports a dataframe of 2010-2019 total housing. \n",
    "\n",
    "The file is very clean and I'm quite proud of that. \n"
   ]
  },
  {
   "cell_type": "markdown",
   "metadata": {},
   "source": [
    "## Bring in the Dataframes"
   ]
  },
  {
   "cell_type": "code",
   "execution_count": 1,
   "metadata": {},
   "outputs": [
    {
     "name": "stderr",
     "output_type": "stream",
     "text": [
      "/opt/conda/lib/python3.8/site-packages/geopandas/_compat.py:106: UserWarning: The Shapely GEOS version (3.8.1-CAPI-1.13.3) is incompatible with the GEOS version PyGEOS was compiled with (3.9.0-CAPI-1.16.2). Conversions between both will be slow.\n",
      "  warnings.warn(\n"
     ]
    }
   ],
   "source": [
    "#import pandas for data stuff\n",
    "import pandas as pd\n",
    "#import geopandas for spatial data stuff\n",
    "import geopandas as gpd"
   ]
  },
  {
   "cell_type": "code",
   "execution_count": 2,
   "metadata": {},
   "outputs": [],
   "source": [
    "#start with the beginning dataset \n",
    "pdf = gpd.read_file('data/2010_Number of housing premises by type of owner.csv')"
   ]
  },
  {
   "cell_type": "code",
   "execution_count": 3,
   "metadata": {},
   "outputs": [
    {
     "data": {
      "text/html": [
       "<div>\n",
       "<style scoped>\n",
       "    .dataframe tbody tr th:only-of-type {\n",
       "        vertical-align: middle;\n",
       "    }\n",
       "\n",
       "    .dataframe tbody tr th {\n",
       "        vertical-align: top;\n",
       "    }\n",
       "\n",
       "    .dataframe thead th {\n",
       "        text-align: right;\n",
       "    }\n",
       "</style>\n",
       "<table border=\"1\" class=\"dataframe\">\n",
       "  <thead>\n",
       "    <tr style=\"text-align: right;\">\n",
       "      <th></th>\n",
       "      <th>Codi_Barri</th>\n",
       "      <th>Nom_Barri</th>\n",
       "      <th>Tipus_propietari</th>\n",
       "      <th>Nombre</th>\n",
       "    </tr>\n",
       "  </thead>\n",
       "  <tbody>\n",
       "    <tr>\n",
       "      <th>0</th>\n",
       "      <td>1</td>\n",
       "      <td>el Raval</td>\n",
       "      <td>Persona física. Nacionalitat  espanyola</td>\n",
       "      <td>15024</td>\n",
       "    </tr>\n",
       "    <tr>\n",
       "      <th>1</th>\n",
       "      <td>2</td>\n",
       "      <td>el Barri Gòtic</td>\n",
       "      <td>Persona física. Nacionalitat  espanyola</td>\n",
       "      <td>6587</td>\n",
       "    </tr>\n",
       "    <tr>\n",
       "      <th>2</th>\n",
       "      <td>3</td>\n",
       "      <td>la Barceloneta</td>\n",
       "      <td>Persona física. Nacionalitat  espanyola</td>\n",
       "      <td>7074</td>\n",
       "    </tr>\n",
       "    <tr>\n",
       "      <th>3</th>\n",
       "      <td>4</td>\n",
       "      <td>Sant Pere, Santa Caterina i la Ribera</td>\n",
       "      <td>Persona física. Nacionalitat  espanyola</td>\n",
       "      <td>9564</td>\n",
       "    </tr>\n",
       "    <tr>\n",
       "      <th>4</th>\n",
       "      <td>5</td>\n",
       "      <td>el Fort Pienc</td>\n",
       "      <td>Persona física. Nacionalitat  espanyola</td>\n",
       "      <td>11761</td>\n",
       "    </tr>\n",
       "  </tbody>\n",
       "</table>\n",
       "</div>"
      ],
      "text/plain": [
       "  Codi_Barri                              Nom_Barri  \\\n",
       "0          1                               el Raval   \n",
       "1          2                         el Barri Gòtic   \n",
       "2          3                         la Barceloneta   \n",
       "3          4  Sant Pere, Santa Caterina i la Ribera   \n",
       "4          5                          el Fort Pienc   \n",
       "\n",
       "                          Tipus_propietari Nombre  \n",
       "0  Persona física. Nacionalitat  espanyola  15024  \n",
       "1  Persona física. Nacionalitat  espanyola   6587  \n",
       "2  Persona física. Nacionalitat  espanyola   7074  \n",
       "3  Persona física. Nacionalitat  espanyola   9564  \n",
       "4  Persona física. Nacionalitat  espanyola  11761  "
      ]
     },
     "execution_count": 3,
     "metadata": {},
     "output_type": "execute_result"
    }
   ],
   "source": [
    "#trim the df to only include the columns needed; this will delete the gender titles as well.\n",
    "pdf_trimmed = pdf[['Codi_Barri', 'Nom_Barri', 'Tipus_propietari', 'Nombre']]\n",
    "pdf_trimmed.head()"
   ]
  },
  {
   "cell_type": "markdown",
   "metadata": {},
   "source": [
    "There are two datapoints that have NA, so I swapped them for 0s. Because the data is used for a total housing number, there were only two datapoints with NA, and the neighborhoods had smaller amounts of total housing otherwise, I felt comfortable doing so. "
   ]
  },
  {
   "cell_type": "code",
   "execution_count": 4,
   "metadata": {},
   "outputs": [
    {
     "name": "stderr",
     "output_type": "stream",
     "text": [
      "<ipython-input-4-0fb278ea7e67>:2: SettingWithCopyWarning: \n",
      "A value is trying to be set on a copy of a slice from a DataFrame.\n",
      "Try using .loc[row_indexer,col_indexer] = value instead\n",
      "\n",
      "See the caveats in the documentation: https://pandas.pydata.org/pandas-docs/stable/user_guide/indexing.html#returning-a-view-versus-a-copy\n",
      "  pdf_trimmed[pdf_trimmed.Nombre == 'NA'] = 0\n",
      "/opt/conda/lib/python3.8/site-packages/pandas/core/frame.py:2957: SettingWithCopyWarning: \n",
      "A value is trying to be set on a copy of a slice from a DataFrame\n",
      "\n",
      "See the caveats in the documentation: https://pandas.pydata.org/pandas-docs/stable/user_guide/indexing.html#returning-a-view-versus-a-copy\n",
      "  self.loc._setitem_with_indexer(indexer, value)\n",
      "/opt/conda/lib/python3.8/site-packages/pandas/core/frame.py:2935: SettingWithCopyWarning: \n",
      "A value is trying to be set on a copy of a slice from a DataFrame\n",
      "\n",
      "See the caveats in the documentation: https://pandas.pydata.org/pandas-docs/stable/user_guide/indexing.html#returning-a-view-versus-a-copy\n",
      "  self._setitem_array(key, value)\n"
     ]
    }
   ],
   "source": [
    "#replace NA with 0\n",
    "pdf_trimmed[pdf_trimmed.Nombre == 'NA'] = 0"
   ]
  },
  {
   "cell_type": "markdown",
   "metadata": {},
   "source": [
    "## Group by Neighborhood\n",
    "\n",
    "This data has total number of houses by the type of property. So, I'll group all of the properties for each neighborhood into the neighborhood."
   ]
  },
  {
   "cell_type": "code",
   "execution_count": 5,
   "metadata": {
    "scrolled": true
   },
   "outputs": [
    {
     "name": "stderr",
     "output_type": "stream",
     "text": [
      "<ipython-input-5-a7295a670ec6>:2: SettingWithCopyWarning: \n",
      "A value is trying to be set on a copy of a slice from a DataFrame.\n",
      "Try using .loc[row_indexer,col_indexer] = value instead\n",
      "\n",
      "See the caveats in the documentation: https://pandas.pydata.org/pandas-docs/stable/user_guide/indexing.html#returning-a-view-versus-a-copy\n",
      "  pdf_trimmed['Nombre'] = pdf_trimmed['Nombre'].astype(int)\n"
     ]
    }
   ],
   "source": [
    "#change datatype of Number to integer\n",
    "pdf_trimmed['Nombre'] = pdf_trimmed['Nombre'].astype(int)"
   ]
  },
  {
   "cell_type": "code",
   "execution_count": 6,
   "metadata": {},
   "outputs": [],
   "source": [
    "#group by code barri and name barri, summing the numbers of the sexes. \n",
    "pdfa= pdf_trimmed.groupby(['Codi_Barri', 'Nom_Barri']).sum()[['Nombre']]"
   ]
  },
  {
   "cell_type": "code",
   "execution_count": 7,
   "metadata": {},
   "outputs": [],
   "source": [
    "#reset the index. flatten\n",
    "pdfb = pdfa.reset_index()"
   ]
  },
  {
   "cell_type": "code",
   "execution_count": 8,
   "metadata": {},
   "outputs": [],
   "source": [
    "pdfb.columns = ['c_barri', 'n_barri', '2010']"
   ]
  },
  {
   "cell_type": "code",
   "execution_count": 9,
   "metadata": {},
   "outputs": [],
   "source": [
    "pdfb= pdfb.drop([0])"
   ]
  },
  {
   "cell_type": "markdown",
   "metadata": {},
   "source": [
    "## Clean additional years. \n",
    "\n",
    "Now that I've figured out how to get the data how I want it for the initial year, I will bring in the additional dataframes, build a function to clean the rest of the data, and loop to combine all data into one dataframe. "
   ]
  },
  {
   "cell_type": "code",
   "execution_count": 10,
   "metadata": {},
   "outputs": [],
   "source": [
    "#bring in the data\n",
    "pdf11 = gpd.read_file('data/2011_Number of housing premises by type of owner.csv')\n",
    "pdf12 = gpd.read_file('data/2012_Number of housing premises by type of owner.csv')\n",
    "pdf13 = gpd.read_file('data/2013_Number of housing premises by type of owner.csv')\n",
    "pdf14 = gpd.read_file('data/2014_Number of housing premises by type of owner.csv')\n",
    "pdf15 = gpd.read_file('data/2015_Number of housing premises by type of owner.csv')\n",
    "pdf16 = gpd.read_file('data/2016_Number of housing premises by type of owner.csv')\n",
    "pdf17 = gpd.read_file('data/2017_Number of housing premises by type of owner.csv')\n",
    "pdf18 = gpd.read_file('data/2018_Number of housing premises by type of owner.csv')\n",
    "pdf19 = gpd.read_file('data/2019_Number of housing premises by type of owner.csv')\n",
    "pdf20 = gpd.read_file('data/2020_Number of housing premises by type of owner.csv')"
   ]
  },
  {
   "cell_type": "code",
   "execution_count": 11,
   "metadata": {},
   "outputs": [],
   "source": [
    "#pass each df into a list \n",
    "years = [pdf11, pdf12, pdf13, pdf14, pdf15, pdf16, pdf17]"
   ]
  },
  {
   "cell_type": "code",
   "execution_count": 12,
   "metadata": {},
   "outputs": [],
   "source": [
    "#create function for cleaning each dataframe\n",
    "def clean(df):\n",
    "    #grab year from 1st column \n",
    "    x=df.iloc[0][0]\n",
    "    #trim the df\n",
    "    pdf_trimmed = df[['Codi_Barri', 'Tipus_propietari', 'Nombre']]\n",
    "    #change number to integer for the sum in groupby\n",
    "    pdf_trimmed[pdf_trimmed.Nombre == 'NA'] = 0\n",
    "    pdf_trimmed['Nombre'] = pdf_trimmed['Nombre'].astype(int) \n",
    "    pdfa= pdf_trimmed.groupby(['Codi_Barri']).sum()[['Nombre']]\n",
    "    pdfb = pdfa.reset_index()\n",
    "    #rename column titles\n",
    "    pdfb.columns = ['c_barri' , str(x)]\n",
    "    #show me the $$!!\n",
    "    return pdfb"
   ]
  },
  {
   "cell_type": "code",
   "execution_count": 13,
   "metadata": {},
   "outputs": [
    {
     "name": "stderr",
     "output_type": "stream",
     "text": [
      "<ipython-input-12-20d9fd426d8d>:8: SettingWithCopyWarning: \n",
      "A value is trying to be set on a copy of a slice from a DataFrame.\n",
      "Try using .loc[row_indexer,col_indexer] = value instead\n",
      "\n",
      "See the caveats in the documentation: https://pandas.pydata.org/pandas-docs/stable/user_guide/indexing.html#returning-a-view-versus-a-copy\n",
      "  pdf_trimmed[pdf_trimmed.Nombre == 'NA'] = 0\n",
      "<ipython-input-12-20d9fd426d8d>:9: SettingWithCopyWarning: \n",
      "A value is trying to be set on a copy of a slice from a DataFrame.\n",
      "Try using .loc[row_indexer,col_indexer] = value instead\n",
      "\n",
      "See the caveats in the documentation: https://pandas.pydata.org/pandas-docs/stable/user_guide/indexing.html#returning-a-view-versus-a-copy\n",
      "  pdf_trimmed['Nombre'] = pdf_trimmed['Nombre'].astype(int)\n"
     ]
    }
   ],
   "source": [
    "#create empty list for the new dfs\n",
    "new_years = []\n",
    "#LOOP whoop whoop\n",
    "for df in years:\n",
    "    new_years.append(clean(df))"
   ]
  },
  {
   "cell_type": "markdown",
   "metadata": {},
   "source": [
    "## Clean the later years. \n",
    "\n",
    "Barcelona City Hall changed their data collection practices between 2017 and 2018. So, the later years' data has additional columns. I created an additional function to clean the later years, loop those, and then combine into the final dataframe. "
   ]
  },
  {
   "cell_type": "code",
   "execution_count": 14,
   "metadata": {},
   "outputs": [],
   "source": [
    "#create function for cleaning each dataframe AFTER BCH changed their data collection\n",
    "def newclean(df):\n",
    "    #grab year from 1st column \n",
    "    x=df.iloc[0][0]\n",
    "    #create df of only the numbers rather than meter squared\n",
    "    b=df.query(\"Concepte == 'Nombre'\")\n",
    "    #trim the df\n",
    "    pdf_trimmed = b[['Codi_barri', 'Desc_tipus_propietari', 'Nombre']]\n",
    "    #change number to integer for the sum in groupby\n",
    "    pdf_trimmed[pdf_trimmed.Nombre == 'NA'] = 0\n",
    "    pdf_trimmed['Nombre'] = pdf_trimmed['Nombre'].astype(int) \n",
    "    pdfa= pdf_trimmed.groupby(['Codi_barri']).sum()[['Nombre']]\n",
    "    pdfb = pdfa.reset_index()\n",
    "    #rename column titles\n",
    "    pdfb.columns = ['c_barri' , str(x)]\n",
    "    #show me the $$!!\n",
    "    return pdfb"
   ]
  },
  {
   "cell_type": "code",
   "execution_count": 15,
   "metadata": {},
   "outputs": [],
   "source": [
    "#create list of later years dataframes\n",
    "lateryears = [pdf18, pdf19, pdf20]"
   ]
  },
  {
   "cell_type": "code",
   "execution_count": 16,
   "metadata": {},
   "outputs": [
    {
     "name": "stderr",
     "output_type": "stream",
     "text": [
      "<ipython-input-14-e5cd6923d5c3>:10: SettingWithCopyWarning: \n",
      "A value is trying to be set on a copy of a slice from a DataFrame.\n",
      "Try using .loc[row_indexer,col_indexer] = value instead\n",
      "\n",
      "See the caveats in the documentation: https://pandas.pydata.org/pandas-docs/stable/user_guide/indexing.html#returning-a-view-versus-a-copy\n",
      "  pdf_trimmed[pdf_trimmed.Nombre == 'NA'] = 0\n",
      "<ipython-input-14-e5cd6923d5c3>:11: SettingWithCopyWarning: \n",
      "A value is trying to be set on a copy of a slice from a DataFrame.\n",
      "Try using .loc[row_indexer,col_indexer] = value instead\n",
      "\n",
      "See the caveats in the documentation: https://pandas.pydata.org/pandas-docs/stable/user_guide/indexing.html#returning-a-view-versus-a-copy\n",
      "  pdf_trimmed['Nombre'] = pdf_trimmed['Nombre'].astype(int)\n"
     ]
    }
   ],
   "source": [
    "#loop and scrub\n",
    "for df in lateryears:\n",
    "    new_years.append(newclean(df))"
   ]
  },
  {
   "cell_type": "code",
   "execution_count": 17,
   "metadata": {},
   "outputs": [
    {
     "data": {
      "text/html": [
       "<div>\n",
       "<style scoped>\n",
       "    .dataframe tbody tr th:only-of-type {\n",
       "        vertical-align: middle;\n",
       "    }\n",
       "\n",
       "    .dataframe tbody tr th {\n",
       "        vertical-align: top;\n",
       "    }\n",
       "\n",
       "    .dataframe thead th {\n",
       "        text-align: right;\n",
       "    }\n",
       "</style>\n",
       "<table border=\"1\" class=\"dataframe\">\n",
       "  <thead>\n",
       "    <tr style=\"text-align: right;\">\n",
       "      <th></th>\n",
       "      <th>c_barri</th>\n",
       "      <th>n_barri</th>\n",
       "      <th>2010</th>\n",
       "      <th>2011</th>\n",
       "      <th>2012</th>\n",
       "      <th>2013</th>\n",
       "      <th>2014</th>\n",
       "      <th>2015</th>\n",
       "      <th>2016</th>\n",
       "      <th>2017</th>\n",
       "      <th>2018</th>\n",
       "      <th>2019</th>\n",
       "      <th>2020</th>\n",
       "    </tr>\n",
       "  </thead>\n",
       "  <tbody>\n",
       "    <tr>\n",
       "      <th>0</th>\n",
       "      <td>1</td>\n",
       "      <td>el Raval</td>\n",
       "      <td>23284</td>\n",
       "      <td>23279</td>\n",
       "      <td>23342</td>\n",
       "      <td>23446</td>\n",
       "      <td>23409</td>\n",
       "      <td>23432</td>\n",
       "      <td>23444</td>\n",
       "      <td>23454</td>\n",
       "      <td>23112</td>\n",
       "      <td>23112</td>\n",
       "      <td>23202</td>\n",
       "    </tr>\n",
       "    <tr>\n",
       "      <th>1</th>\n",
       "      <td>10</td>\n",
       "      <td>Sant Antoni</td>\n",
       "      <td>20137</td>\n",
       "      <td>20215</td>\n",
       "      <td>20200</td>\n",
       "      <td>20234</td>\n",
       "      <td>20255</td>\n",
       "      <td>20271</td>\n",
       "      <td>20281</td>\n",
       "      <td>20264</td>\n",
       "      <td>19484</td>\n",
       "      <td>19484</td>\n",
       "      <td>19488</td>\n",
       "    </tr>\n",
       "    <tr>\n",
       "      <th>2</th>\n",
       "      <td>11</td>\n",
       "      <td>el Poble Sec</td>\n",
       "      <td>19202</td>\n",
       "      <td>19145</td>\n",
       "      <td>19159</td>\n",
       "      <td>19196</td>\n",
       "      <td>19178</td>\n",
       "      <td>19189</td>\n",
       "      <td>19216</td>\n",
       "      <td>19228</td>\n",
       "      <td>18520</td>\n",
       "      <td>18520</td>\n",
       "      <td>18569</td>\n",
       "    </tr>\n",
       "    <tr>\n",
       "      <th>3</th>\n",
       "      <td>12</td>\n",
       "      <td>la Marina del Prat Vermell</td>\n",
       "      <td>893</td>\n",
       "      <td>893</td>\n",
       "      <td>881</td>\n",
       "      <td>906</td>\n",
       "      <td>744</td>\n",
       "      <td>798</td>\n",
       "      <td>798</td>\n",
       "      <td>798</td>\n",
       "      <td>776</td>\n",
       "      <td>776</td>\n",
       "      <td>776</td>\n",
       "    </tr>\n",
       "    <tr>\n",
       "      <th>4</th>\n",
       "      <td>13</td>\n",
       "      <td>la Marina de Port</td>\n",
       "      <td>12818</td>\n",
       "      <td>12950</td>\n",
       "      <td>13153</td>\n",
       "      <td>13157</td>\n",
       "      <td>13103</td>\n",
       "      <td>13154</td>\n",
       "      <td>13277</td>\n",
       "      <td>13277</td>\n",
       "      <td>13315</td>\n",
       "      <td>13334</td>\n",
       "      <td>13335</td>\n",
       "    </tr>\n",
       "  </tbody>\n",
       "</table>\n",
       "</div>"
      ],
      "text/plain": [
       "  c_barri                     n_barri   2010   2011   2012   2013   2014  \\\n",
       "0       1                    el Raval  23284  23279  23342  23446  23409   \n",
       "1      10                 Sant Antoni  20137  20215  20200  20234  20255   \n",
       "2      11                el Poble Sec  19202  19145  19159  19196  19178   \n",
       "3      12  la Marina del Prat Vermell    893    893    881    906    744   \n",
       "4      13           la Marina de Port  12818  12950  13153  13157  13103   \n",
       "\n",
       "    2015   2016   2017   2018   2019   2020  \n",
       "0  23432  23444  23454  23112  23112  23202  \n",
       "1  20271  20281  20264  19484  19484  19488  \n",
       "2  19189  19216  19228  18520  18520  18569  \n",
       "3    798    798    798    776    776    776  \n",
       "4  13154  13277  13277  13315  13334  13335  "
      ]
     },
     "execution_count": 17,
     "metadata": {},
     "output_type": "execute_result"
    }
   ],
   "source": [
    "#grab df from new_years to merge to pdfb\n",
    "final = pdfb.merge(new_years[0].merge(new_years[1].merge(new_years[2].merge(new_years[3].merge(new_years[4].merge(new_years[5].merge(new_years[6].merge(new_years[7].merge(new_years[8].merge(new_years[9], on='c_barri'), on='c_barri'), on='c_barri'),on='c_barri'),on='c_barri'),on='c_barri'),on='c_barri'),on='c_barri'),on='c_barri'), on='c_barri')\n",
    "#take a peek at the final product\n",
    "final.head()"
   ]
  },
  {
   "cell_type": "code",
   "execution_count": 18,
   "metadata": {},
   "outputs": [
    {
     "data": {
      "text/plain": [
       "(73, 13)"
      ]
     },
     "execution_count": 18,
     "metadata": {},
     "output_type": "execute_result"
    }
   ],
   "source": [
    "#make sure all of the data came in\n",
    "final.shape"
   ]
  },
  {
   "cell_type": "code",
   "execution_count": 19,
   "metadata": {},
   "outputs": [],
   "source": [
    "#export as csv to data folder\n",
    "final.to_csv(r'data/2010_2020_TotalHousing_Barri.csv', index = False)"
   ]
  },
  {
   "cell_type": "code",
   "execution_count": null,
   "metadata": {},
   "outputs": [],
   "source": []
  }
 ],
 "metadata": {
  "kernelspec": {
   "display_name": "Python 3",
   "language": "python",
   "name": "python3"
  },
  "language_info": {
   "codemirror_mode": {
    "name": "ipython",
    "version": 3
   },
   "file_extension": ".py",
   "mimetype": "text/x-python",
   "name": "python",
   "nbconvert_exporter": "python",
   "pygments_lexer": "ipython3",
   "version": "3.8.5"
  },
  "toc": {
   "base_numbering": 1,
   "nav_menu": {},
   "number_sections": true,
   "sideBar": true,
   "skip_h1_title": false,
   "title_cell": "Table of Contents",
   "title_sidebar": "Contents",
   "toc_cell": false,
   "toc_position": {},
   "toc_section_display": true,
   "toc_window_display": false
  }
 },
 "nbformat": 4,
 "nbformat_minor": 4
}
