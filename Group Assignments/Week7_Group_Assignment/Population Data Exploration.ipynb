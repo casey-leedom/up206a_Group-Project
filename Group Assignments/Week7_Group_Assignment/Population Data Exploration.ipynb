{
 "cells": [
  {
   "cell_type": "markdown",
   "metadata": {},
   "source": [
    "## Barcelona Population Data Exploration\n",
    "\n",
    "Much of our data for this project will need population data to normalize statistics. So in this notebook, I've taken the gender population data from 2011-2019 to calculate a total population number for the different neighborhoods in Barcelona. Surprisingly, we were unable to just find population data proper but this was a good workaround. \n",
    "\n",
    "We don't have any graphics here, but have developed a function that was called in a for loop to clean the data for each of the years. Additionally, we decided against including this notebook with Casey's notebook for this week because this file really stands alone to clean data and export a usable dataframe that will provide context for other graphics.  "
   ]
  },
  {
   "cell_type": "markdown",
   "metadata": {},
   "source": [
    "### Import & Clean First Year's Data"
   ]
  },
  {
   "cell_type": "code",
   "execution_count": 1,
   "metadata": {},
   "outputs": [],
   "source": [
    "#import pandas for data stuff\n",
    "import pandas as pd\n",
    "#import geopandas for spatial data stuff\n",
    "import geopandas as gpd"
   ]
  },
  {
   "cell_type": "code",
   "execution_count": 2,
   "metadata": {},
   "outputs": [],
   "source": [
    "#start with the beginning dataset \n",
    "pdf = gpd.read_file('data/2011_population by gender.csv')"
   ]
  },
  {
   "cell_type": "markdown",
   "metadata": {},
   "source": [
    "The data has extra unneeded columns. "
   ]
  },
  {
   "cell_type": "code",
   "execution_count": 3,
   "metadata": {},
   "outputs": [],
   "source": [
    "#trim the df to only include the columns needed; this will delete the gender titles as well.\n",
    "pdf_trimmed = pdf[['Codi_Barri',\n",
    " 'Nom_Barri',\n",
    " 'Nombre']]"
   ]
  },
  {
   "cell_type": "markdown",
   "metadata": {},
   "source": [
    "I need to combine the two sexes for each Barri. "
   ]
  },
  {
   "cell_type": "code",
   "execution_count": 4,
   "metadata": {
    "scrolled": true
   },
   "outputs": [
    {
     "name": "stderr",
     "output_type": "stream",
     "text": [
      "<ipython-input-4-a7295a670ec6>:2: SettingWithCopyWarning: \n",
      "A value is trying to be set on a copy of a slice from a DataFrame.\n",
      "Try using .loc[row_indexer,col_indexer] = value instead\n",
      "\n",
      "See the caveats in the documentation: https://pandas.pydata.org/pandas-docs/stable/user_guide/indexing.html#returning-a-view-versus-a-copy\n",
      "  pdf_trimmed['Nombre'] = pdf_trimmed['Nombre'].astype(int)\n"
     ]
    }
   ],
   "source": [
    "#change datatype of Number to integer\n",
    "pdf_trimmed['Nombre'] = pdf_trimmed['Nombre'].astype(int)"
   ]
  },
  {
   "cell_type": "code",
   "execution_count": 5,
   "metadata": {
    "scrolled": true
   },
   "outputs": [],
   "source": [
    "#group by code barri and name barri, summing the numbers of the sexes. \n",
    "pdfa= pdf_trimmed.groupby(['Codi_Barri', 'Nom_Barri']).sum()[['Nombre']]"
   ]
  },
  {
   "cell_type": "code",
   "execution_count": 6,
   "metadata": {},
   "outputs": [],
   "source": [
    "#reset the index. flatten\n",
    "pdfb = pdfa.reset_index()"
   ]
  },
  {
   "cell_type": "markdown",
   "metadata": {},
   "source": [
    "Excellent, now I have a dataframe with the three columns needed: code barri, name barri, and the population. But the population title needs to change. I want to set the column title to population and the year. I've decided to set this up through a variable so that I can iterate over it in the function. "
   ]
  },
  {
   "cell_type": "code",
   "execution_count": 7,
   "metadata": {},
   "outputs": [],
   "source": [
    "#set variable for population year\n",
    "x=2011"
   ]
  },
  {
   "cell_type": "code",
   "execution_count": 8,
   "metadata": {},
   "outputs": [],
   "source": [
    "#change column names\n",
    "pdfb.columns = ['c_barri', 'n_barri', 'population '+ str(x)]"
   ]
  },
  {
   "cell_type": "markdown",
   "metadata": {},
   "source": [
    "### Import & Clean Subsequent Years' Data\n",
    "\n",
    "For 2012-2019, I'd like to create a function for cleaning the data using the code above and making some tweaks to allow for a for loop. I'll first bring in the data to pass into a list, then create a function, and then loop the function over the list. "
   ]
  },
  {
   "cell_type": "code",
   "execution_count": 9,
   "metadata": {},
   "outputs": [],
   "source": [
    "pdf12 = gpd.read_file('data/2012_population by gender.csv')\n",
    "pdf13 = gpd.read_file('data/2013_population by gender.csv')\n",
    "pdf14 = gpd.read_file('data/2014_population by gender.csv')\n",
    "pdf15 = gpd.read_file('data/2015_population by gender.csv')\n",
    "pdf16 = gpd.read_file('data/2016_population by gender.csv')\n",
    "pdf17 = gpd.read_file('data/2017_population by gender.csv')\n",
    "pdf18 = gpd.read_file('data/2018_population by gender.csv')\n",
    "pdf19 = gpd.read_file('data/2019_population by gender.csv')"
   ]
  },
  {
   "cell_type": "code",
   "execution_count": 10,
   "metadata": {},
   "outputs": [],
   "source": [
    "#pass each df into a list \n",
    "years = [pdf12, pdf13, pdf14, pdf15, pdf16, pdf17, pdf18, pdf19]"
   ]
  },
  {
   "cell_type": "markdown",
   "metadata": {
    "slideshow": {
     "slide_type": "slide"
    }
   },
   "source": [
    "Now I have a list and need to create the function. \n",
    "\n",
    "For the function, I needed to create a variable that catches the year from the first column of the dataframe before I trim it. After trimming and summing the genders, I use that year to create the name of the column. At the end of the function, I should return a dataframe of the barri code and population (excluding the neighborhood name because I have that listed in the first dataframe)."
   ]
  },
  {
   "cell_type": "code",
   "execution_count": 11,
   "metadata": {},
   "outputs": [],
   "source": [
    "#create function for cleaning each dataframe\n",
    "def clean(df):\n",
    "    #grab year from 1st column \n",
    "    x=df.iloc[0][0]\n",
    "    #trim the df\n",
    "    pdf_trimmed = df[['Codi_Barri', 'Nombre']]\n",
    "    #change number to integer for the sum in groupby\n",
    "    pdf_trimmed['Nombre'] = pdf_trimmed['Nombre'].astype(int) \n",
    "    pdfa= pdf_trimmed.groupby(['Codi_Barri']).sum()[['Nombre']]\n",
    "    pdfb = pdfa.reset_index()\n",
    "    #rename column titles\n",
    "    pdfb.columns = ['c_barri', 'population '+ str(x)]\n",
    "    #show me the $$!!\n",
    "    return pdfb"
   ]
  },
  {
   "cell_type": "code",
   "execution_count": 12,
   "metadata": {},
   "outputs": [
    {
     "name": "stderr",
     "output_type": "stream",
     "text": [
      "<ipython-input-11-60689e1e5253>:8: SettingWithCopyWarning: \n",
      "A value is trying to be set on a copy of a slice from a DataFrame.\n",
      "Try using .loc[row_indexer,col_indexer] = value instead\n",
      "\n",
      "See the caveats in the documentation: https://pandas.pydata.org/pandas-docs/stable/user_guide/indexing.html#returning-a-view-versus-a-copy\n",
      "  pdf_trimmed['Nombre'] = pdf_trimmed['Nombre'].astype(int)\n"
     ]
    }
   ],
   "source": [
    "#create empty list for the new dfs\n",
    "new_years = []\n",
    "#LOOP\n",
    "for df in years:\n",
    "    new_years.append(clean(df))"
   ]
  },
  {
   "cell_type": "markdown",
   "metadata": {},
   "source": [
    "This kind of worked. I don't have names for the dataframes within new_years. But I can index the list to get the different dataframes.\n",
    "\n",
    "### Merge Data"
   ]
  },
  {
   "cell_type": "code",
   "execution_count": 13,
   "metadata": {},
   "outputs": [
    {
     "data": {
      "text/html": [
       "<div>\n",
       "<style scoped>\n",
       "    .dataframe tbody tr th:only-of-type {\n",
       "        vertical-align: middle;\n",
       "    }\n",
       "\n",
       "    .dataframe tbody tr th {\n",
       "        vertical-align: top;\n",
       "    }\n",
       "\n",
       "    .dataframe thead th {\n",
       "        text-align: right;\n",
       "    }\n",
       "</style>\n",
       "<table border=\"1\" class=\"dataframe\">\n",
       "  <thead>\n",
       "    <tr style=\"text-align: right;\">\n",
       "      <th></th>\n",
       "      <th>c_barri</th>\n",
       "      <th>n_barri</th>\n",
       "      <th>population 2011</th>\n",
       "      <th>population 2012</th>\n",
       "      <th>population 2013</th>\n",
       "      <th>population 2014</th>\n",
       "      <th>population 2015</th>\n",
       "      <th>population 2016</th>\n",
       "      <th>population 2017</th>\n",
       "      <th>population 2018</th>\n",
       "      <th>population 2019</th>\n",
       "    </tr>\n",
       "  </thead>\n",
       "  <tbody>\n",
       "    <tr>\n",
       "      <th>0</th>\n",
       "      <td>1</td>\n",
       "      <td>el Raval</td>\n",
       "      <td>47700</td>\n",
       "      <td>49027</td>\n",
       "      <td>48800</td>\n",
       "      <td>47489</td>\n",
       "      <td>47142</td>\n",
       "      <td>47129</td>\n",
       "      <td>47608</td>\n",
       "      <td>46948</td>\n",
       "      <td>47353</td>\n",
       "    </tr>\n",
       "    <tr>\n",
       "      <th>1</th>\n",
       "      <td>10</td>\n",
       "      <td>Sant Antoni</td>\n",
       "      <td>38002</td>\n",
       "      <td>38372</td>\n",
       "      <td>38260</td>\n",
       "      <td>38096</td>\n",
       "      <td>38033</td>\n",
       "      <td>38184</td>\n",
       "      <td>38345</td>\n",
       "      <td>38090</td>\n",
       "      <td>38236</td>\n",
       "    </tr>\n",
       "    <tr>\n",
       "      <th>2</th>\n",
       "      <td>11</td>\n",
       "      <td>el Poble Sec</td>\n",
       "      <td>40547</td>\n",
       "      <td>41258</td>\n",
       "      <td>40984</td>\n",
       "      <td>40278</td>\n",
       "      <td>40208</td>\n",
       "      <td>40055</td>\n",
       "      <td>40228</td>\n",
       "      <td>39520</td>\n",
       "      <td>39995</td>\n",
       "    </tr>\n",
       "    <tr>\n",
       "      <th>3</th>\n",
       "      <td>12</td>\n",
       "      <td>la Marina del Prat Vermell</td>\n",
       "      <td>1124</td>\n",
       "      <td>1153</td>\n",
       "      <td>1172</td>\n",
       "      <td>1144</td>\n",
       "      <td>1125</td>\n",
       "      <td>1143</td>\n",
       "      <td>1149</td>\n",
       "      <td>1158</td>\n",
       "      <td>1196</td>\n",
       "    </tr>\n",
       "    <tr>\n",
       "      <th>4</th>\n",
       "      <td>13</td>\n",
       "      <td>la Marina de Port</td>\n",
       "      <td>30243</td>\n",
       "      <td>30458</td>\n",
       "      <td>30271</td>\n",
       "      <td>30047</td>\n",
       "      <td>30232</td>\n",
       "      <td>30385</td>\n",
       "      <td>30584</td>\n",
       "      <td>30660</td>\n",
       "      <td>30958</td>\n",
       "    </tr>\n",
       "  </tbody>\n",
       "</table>\n",
       "</div>"
      ],
      "text/plain": [
       "  c_barri                     n_barri  population 2011  population 2012  \\\n",
       "0       1                    el Raval            47700            49027   \n",
       "1      10                 Sant Antoni            38002            38372   \n",
       "2      11                el Poble Sec            40547            41258   \n",
       "3      12  la Marina del Prat Vermell             1124             1153   \n",
       "4      13           la Marina de Port            30243            30458   \n",
       "\n",
       "   population 2013  population 2014  population 2015  population 2016  \\\n",
       "0            48800            47489            47142            47129   \n",
       "1            38260            38096            38033            38184   \n",
       "2            40984            40278            40208            40055   \n",
       "3             1172             1144             1125             1143   \n",
       "4            30271            30047            30232            30385   \n",
       "\n",
       "   population 2017  population 2018  population 2019  \n",
       "0            47608            46948            47353  \n",
       "1            38345            38090            38236  \n",
       "2            40228            39520            39995  \n",
       "3             1149             1158             1196  \n",
       "4            30584            30660            30958  "
      ]
     },
     "execution_count": 13,
     "metadata": {},
     "output_type": "execute_result"
    }
   ],
   "source": [
    "#grab df from new_years to merge to pdfb\n",
    "final = pdfb.merge(new_years[0].merge(new_years[1].merge(new_years[2].merge(new_years[3].merge(new_years[4].merge(new_years[5].merge(new_years[6].merge(new_years[7], on='c_barri'),on='c_barri'),on='c_barri'),on='c_barri'),on='c_barri'),on='c_barri'),on='c_barri'), on='c_barri')\n",
    "#take a peek at the final product\n",
    "final.head()"
   ]
  },
  {
   "cell_type": "markdown",
   "metadata": {},
   "source": [
    "### Export Dataframe \n",
    "\n",
    "I want to have this as a standalone new file to use later. "
   ]
  },
  {
   "cell_type": "code",
   "execution_count": 14,
   "metadata": {},
   "outputs": [],
   "source": [
    "#export as csv to data folder\n",
    "df.to_csv(r'data/2011_2019_BarcelonaPop_Barri.csv')"
   ]
  }
 ],
 "metadata": {
  "kernelspec": {
   "display_name": "Python 3",
   "language": "python",
   "name": "python3"
  },
  "language_info": {
   "codemirror_mode": {
    "name": "ipython",
    "version": 3
   },
   "file_extension": ".py",
   "mimetype": "text/x-python",
   "name": "python",
   "nbconvert_exporter": "python",
   "pygments_lexer": "ipython3",
   "version": "3.8.5"
  },
  "toc": {
   "base_numbering": 1,
   "nav_menu": {},
   "number_sections": true,
   "sideBar": true,
   "skip_h1_title": false,
   "title_cell": "Table of Contents",
   "title_sidebar": "Contents",
   "toc_cell": false,
   "toc_position": {},
   "toc_section_display": true,
   "toc_window_display": false
  }
 },
 "nbformat": 4,
 "nbformat_minor": 4
}
