{
 "cells": [
  {
   "cell_type": "markdown",
   "metadata": {},
   "source": [
    "# Spanish Housing Market\n",
    "**by Tiffany Green**\n",
    "\n",
    "In case you need a refresh on our project: We're looking at the effect of grassroots housing justice movements' actions in Spain. We're trying to understand what material changes have happened as a result of their organizing. Our approach will be to show the housing market conditions in Spain, then zoom into Barcelona where a lot of the housing justice action has been. There, we hope to see how the city is progressing after recent policy changes.\n",
    "\n",
    "Today, I'll be looking at eviction data for the country of Spain. I accessed this data from the Spanish Judiciary; it is broken down into the Judicial Districts. These jurisdictions do not directly align with the geographic breakdowns of their census categoris and we have been unable to find shapefiles for the boundaries. So, I summarized the judicial district information into the larger boundary for provinces. I will map the total number of evictions within each province, as well as break down Barcelona provinces' type of evictions over 2013-2019.\n",
    "\n",
    "\n",
    "So, here's what I need to do: \n",
    "1. Bring in the spatial data. \n",
    "1. Check and clean the spatial data. \n",
    "1. Bring in the eviction data. \n",
    "1. Check and clean the eviction data.\n",
    "1. Merge the dataframes\n",
    "1. Create a map of the total number of evictions by province. \n",
    "1. Create a chart of the different types of evictions in Barcelona over the years available. "
   ]
  },
  {
   "cell_type": "markdown",
   "metadata": {},
   "source": [
    "## Import libraries. \n",
    "\n",
    "I'll bring in the libraries to make it all work. "
   ]
  },
  {
   "cell_type": "code",
   "execution_count": 1,
   "metadata": {},
   "outputs": [],
   "source": [
    "# import libarary for dataframes\n",
    "import pandas as pd\n",
    "#import libarary for geo data\n",
    "import geopandas as gpd\n",
    "#import library to create some basemaps\n",
    "import contextily as ctx\n",
    "#for plotting extras\n",
    "import matplotlib.pyplot as plt\n",
    "# for interactive plots - hopefully!\n",
    "import plotly.express as px"
   ]
  },
  {
   "cell_type": "markdown",
   "metadata": {},
   "source": [
    "## Import & Clean Spatial Data\n",
    "\n",
    "I'll start with the spatial dataframe. It will need to be trimmed and make sure the dtype is ready to merge into the eviction data.  "
   ]
  },
  {
   "cell_type": "code",
   "execution_count": 2,
   "metadata": {},
   "outputs": [
    {
     "data": {
      "text/html": [
       "<div>\n",
       "<style scoped>\n",
       "    .dataframe tbody tr th:only-of-type {\n",
       "        vertical-align: middle;\n",
       "    }\n",
       "\n",
       "    .dataframe tbody tr th {\n",
       "        vertical-align: top;\n",
       "    }\n",
       "\n",
       "    .dataframe thead th {\n",
       "        text-align: right;\n",
       "    }\n",
       "</style>\n",
       "<table border=\"1\" class=\"dataframe\">\n",
       "  <thead>\n",
       "    <tr style=\"text-align: right;\">\n",
       "      <th></th>\n",
       "      <th>NPRO</th>\n",
       "      <th>OBJECTID</th>\n",
       "      <th>CUSEC</th>\n",
       "      <th>CUMUN</th>\n",
       "      <th>CSEC</th>\n",
       "      <th>CDIS</th>\n",
       "      <th>CMUN</th>\n",
       "      <th>CPRO</th>\n",
       "      <th>CCA</th>\n",
       "      <th>CUDIS</th>\n",
       "      <th>...</th>\n",
       "      <th>CNUT1</th>\n",
       "      <th>CNUT2</th>\n",
       "      <th>CNUT3</th>\n",
       "      <th>CLAU2</th>\n",
       "      <th>NCA</th>\n",
       "      <th>NMUN</th>\n",
       "      <th>Shape_Leng</th>\n",
       "      <th>Shape_area</th>\n",
       "      <th>Shape_len</th>\n",
       "      <th>geometry</th>\n",
       "    </tr>\n",
       "  </thead>\n",
       "  <tbody>\n",
       "    <tr>\n",
       "      <th>0</th>\n",
       "      <td>Albacete</td>\n",
       "      <td>266</td>\n",
       "      <td>0200101001</td>\n",
       "      <td>02001</td>\n",
       "      <td>001</td>\n",
       "      <td>01</td>\n",
       "      <td>001</td>\n",
       "      <td>02</td>\n",
       "      <td>08</td>\n",
       "      <td>0200101</td>\n",
       "      <td>...</td>\n",
       "      <td>4</td>\n",
       "      <td>2</td>\n",
       "      <td>1</td>\n",
       "      <td>02001</td>\n",
       "      <td>Castilla-La Mancha</td>\n",
       "      <td>Abengibre</td>\n",
       "      <td>25251.671660</td>\n",
       "      <td>3.075662e+07</td>\n",
       "      <td>25251.671660</td>\n",
       "      <td>POLYGON ((568861.458 4228498.857, 568863.454 4...</td>\n",
       "    </tr>\n",
       "    <tr>\n",
       "      <th>1</th>\n",
       "      <td>Alicante</td>\n",
       "      <td>566</td>\n",
       "      <td>0300101001</td>\n",
       "      <td>03001</td>\n",
       "      <td>001</td>\n",
       "      <td>01</td>\n",
       "      <td>001</td>\n",
       "      <td>03</td>\n",
       "      <td>10</td>\n",
       "      <td>0300101</td>\n",
       "      <td>...</td>\n",
       "      <td>5</td>\n",
       "      <td>2</td>\n",
       "      <td>1</td>\n",
       "      <td>03001</td>\n",
       "      <td>Comunitat Valenciana</td>\n",
       "      <td>Adsubia</td>\n",
       "      <td>18371.502266</td>\n",
       "      <td>1.468415e+07</td>\n",
       "      <td>18371.502266</td>\n",
       "      <td>MULTIPOLYGON (((701641.529 4201786.197, 701679...</td>\n",
       "    </tr>\n",
       "    <tr>\n",
       "      <th>2</th>\n",
       "      <td>Almería</td>\n",
       "      <td>1798</td>\n",
       "      <td>0400101001</td>\n",
       "      <td>04001</td>\n",
       "      <td>001</td>\n",
       "      <td>01</td>\n",
       "      <td>001</td>\n",
       "      <td>04</td>\n",
       "      <td>01</td>\n",
       "      <td>0400101</td>\n",
       "      <td>...</td>\n",
       "      <td>6</td>\n",
       "      <td>1</td>\n",
       "      <td>1</td>\n",
       "      <td>04001</td>\n",
       "      <td>Andalucía</td>\n",
       "      <td>Abla</td>\n",
       "      <td>46583.545501</td>\n",
       "      <td>4.520873e+07</td>\n",
       "      <td>46583.545501</td>\n",
       "      <td>MULTIPOLYGON (((519527.321 4060404.620, 519513...</td>\n",
       "    </tr>\n",
       "    <tr>\n",
       "      <th>3</th>\n",
       "      <td>Araba/Álava</td>\n",
       "      <td>1</td>\n",
       "      <td>0100101001</td>\n",
       "      <td>01001</td>\n",
       "      <td>001</td>\n",
       "      <td>01</td>\n",
       "      <td>001</td>\n",
       "      <td>01</td>\n",
       "      <td>16</td>\n",
       "      <td>0100101</td>\n",
       "      <td>...</td>\n",
       "      <td>2</td>\n",
       "      <td>1</td>\n",
       "      <td>1</td>\n",
       "      <td>01001</td>\n",
       "      <td>País Vasco</td>\n",
       "      <td>Alegría-Dulantzi</td>\n",
       "      <td>34474.734278</td>\n",
       "      <td>1.551393e+07</td>\n",
       "      <td>34474.734278</td>\n",
       "      <td>POLYGON ((537063.531 4703664.589, 536887.844 4...</td>\n",
       "    </tr>\n",
       "    <tr>\n",
       "      <th>4</th>\n",
       "      <td>Asturias</td>\n",
       "      <td>24008</td>\n",
       "      <td>3300101001</td>\n",
       "      <td>33001</td>\n",
       "      <td>001</td>\n",
       "      <td>01</td>\n",
       "      <td>001</td>\n",
       "      <td>33</td>\n",
       "      <td>03</td>\n",
       "      <td>3300101</td>\n",
       "      <td>...</td>\n",
       "      <td>1</td>\n",
       "      <td>2</td>\n",
       "      <td>0</td>\n",
       "      <td>33001</td>\n",
       "      <td>Principado de Asturias</td>\n",
       "      <td>Allande</td>\n",
       "      <td>104641.075781</td>\n",
       "      <td>2.847532e+08</td>\n",
       "      <td>104641.075781</td>\n",
       "      <td>POLYGON ((216722.702 4763101.374, 216759.909 4...</td>\n",
       "    </tr>\n",
       "  </tbody>\n",
       "</table>\n",
       "<p>5 rows × 22 columns</p>\n",
       "</div>"
      ],
      "text/plain": [
       "          NPRO  OBJECTID       CUSEC  CUMUN CSEC CDIS CMUN CPRO CCA    CUDIS  \\\n",
       "0     Albacete       266  0200101001  02001  001   01  001   02  08  0200101   \n",
       "1     Alicante       566  0300101001  03001  001   01  001   03  10  0300101   \n",
       "2      Almería      1798  0400101001  04001  001   01  001   04  01  0400101   \n",
       "3  Araba/Álava         1  0100101001  01001  001   01  001   01  16  0100101   \n",
       "4     Asturias     24008  3300101001  33001  001   01  001   33  03  3300101   \n",
       "\n",
       "   ... CNUT1 CNUT2 CNUT3  CLAU2                     NCA              NMUN  \\\n",
       "0  ...     4     2     1  02001      Castilla-La Mancha         Abengibre   \n",
       "1  ...     5     2     1  03001    Comunitat Valenciana           Adsubia   \n",
       "2  ...     6     1     1  04001               Andalucía              Abla   \n",
       "3  ...     2     1     1  01001              País Vasco  Alegría-Dulantzi   \n",
       "4  ...     1     2     0  33001  Principado de Asturias           Allande   \n",
       "\n",
       "      Shape_Leng    Shape_area      Shape_len  \\\n",
       "0   25251.671660  3.075662e+07   25251.671660   \n",
       "1   18371.502266  1.468415e+07   18371.502266   \n",
       "2   46583.545501  4.520873e+07   46583.545501   \n",
       "3   34474.734278  1.551393e+07   34474.734278   \n",
       "4  104641.075781  2.847532e+08  104641.075781   \n",
       "\n",
       "                                            geometry  \n",
       "0  POLYGON ((568861.458 4228498.857, 568863.454 4...  \n",
       "1  MULTIPOLYGON (((701641.529 4201786.197, 701679...  \n",
       "2  MULTIPOLYGON (((519527.321 4060404.620, 519513...  \n",
       "3  POLYGON ((537063.531 4703664.589, 536887.844 4...  \n",
       "4  POLYGON ((216722.702 4763101.374, 216759.909 4...  \n",
       "\n",
       "[5 rows x 22 columns]"
      ]
     },
     "execution_count": 2,
     "metadata": {},
     "output_type": "execute_result"
    }
   ],
   "source": [
    "#import census spatial datafram\n",
    "pdf = gpd.read_file('Eviction_Data/spain_provinces.dbf')\n",
    "pdf.head()"
   ]
  },
  {
   "cell_type": "code",
   "execution_count": 3,
   "metadata": {},
   "outputs": [
    {
     "data": {
      "text/html": [
       "<div>\n",
       "<style scoped>\n",
       "    .dataframe tbody tr th:only-of-type {\n",
       "        vertical-align: middle;\n",
       "    }\n",
       "\n",
       "    .dataframe tbody tr th {\n",
       "        vertical-align: top;\n",
       "    }\n",
       "\n",
       "    .dataframe thead th {\n",
       "        text-align: right;\n",
       "    }\n",
       "</style>\n",
       "<table border=\"1\" class=\"dataframe\">\n",
       "  <thead>\n",
       "    <tr style=\"text-align: right;\">\n",
       "      <th></th>\n",
       "      <th>CPRO</th>\n",
       "      <th>geometry</th>\n",
       "    </tr>\n",
       "  </thead>\n",
       "  <tbody>\n",
       "    <tr>\n",
       "      <th>0</th>\n",
       "      <td>02</td>\n",
       "      <td>POLYGON ((568861.458 4228498.857, 568863.454 4...</td>\n",
       "    </tr>\n",
       "    <tr>\n",
       "      <th>1</th>\n",
       "      <td>03</td>\n",
       "      <td>MULTIPOLYGON (((701641.529 4201786.197, 701679...</td>\n",
       "    </tr>\n",
       "    <tr>\n",
       "      <th>2</th>\n",
       "      <td>04</td>\n",
       "      <td>MULTIPOLYGON (((519527.321 4060404.620, 519513...</td>\n",
       "    </tr>\n",
       "    <tr>\n",
       "      <th>3</th>\n",
       "      <td>01</td>\n",
       "      <td>POLYGON ((537063.531 4703664.589, 536887.844 4...</td>\n",
       "    </tr>\n",
       "    <tr>\n",
       "      <th>4</th>\n",
       "      <td>33</td>\n",
       "      <td>POLYGON ((216722.702 4763101.374, 216759.909 4...</td>\n",
       "    </tr>\n",
       "  </tbody>\n",
       "</table>\n",
       "</div>"
      ],
      "text/plain": [
       "  CPRO                                           geometry\n",
       "0   02  POLYGON ((568861.458 4228498.857, 568863.454 4...\n",
       "1   03  MULTIPOLYGON (((701641.529 4201786.197, 701679...\n",
       "2   04  MULTIPOLYGON (((519527.321 4060404.620, 519513...\n",
       "3   01  POLYGON ((537063.531 4703664.589, 536887.844 4...\n",
       "4   33  POLYGON ((216722.702 4763101.374, 216759.909 4..."
      ]
     },
     "execution_count": 3,
     "metadata": {},
     "output_type": "execute_result"
    }
   ],
   "source": [
    "#trim pdf to only include cpro and geometry. \n",
    "pdf_trimmed= pdf[['CPRO', 'geometry']]\n",
    "pdf_trimmed.head()"
   ]
  },
  {
   "cell_type": "code",
   "execution_count": 4,
   "metadata": {},
   "outputs": [
    {
     "data": {
      "text/plain": [
       "CPRO          object\n",
       "geometry    geometry\n",
       "dtype: object"
      ]
     },
     "execution_count": 4,
     "metadata": {},
     "output_type": "execute_result"
    }
   ],
   "source": [
    "#check type of data to ensure CPRO matches - it doesn't\n",
    "pdf_trimmed.dtypes"
   ]
  },
  {
   "cell_type": "code",
   "execution_count": 5,
   "metadata": {},
   "outputs": [
    {
     "name": "stderr",
     "output_type": "stream",
     "text": [
      "/opt/conda/lib/python3.8/site-packages/geopandas/geodataframe.py:853: SettingWithCopyWarning: \n",
      "A value is trying to be set on a copy of a slice from a DataFrame.\n",
      "Try using .loc[row_indexer,col_indexer] = value instead\n",
      "\n",
      "See the caveats in the documentation: https://pandas.pydata.org/pandas-docs/stable/user_guide/indexing.html#returning-a-view-versus-a-copy\n",
      "  super(GeoDataFrame, self).__setitem__(key, value)\n"
     ]
    },
    {
     "data": {
      "text/plain": [
       "CPRO           int64\n",
       "geometry    geometry\n",
       "dtype: object"
      ]
     },
     "execution_count": 5,
     "metadata": {},
     "output_type": "execute_result"
    }
   ],
   "source": [
    "#change CPRO into int for merge\n",
    "pdf_trimmed['CPRO'] = pdf_trimmed['CPRO'].astype(int)\n",
    "pdf_trimmed.dtypes"
   ]
  },
  {
   "cell_type": "markdown",
   "metadata": {},
   "source": [
    "## Import & Clean Eviction Data\n",
    "\n",
    "The province dataframe is in good shape! Now to bring in the eviction dataframe and make sure it's ready to merge. "
   ]
  },
  {
   "cell_type": "code",
   "execution_count": 6,
   "metadata": {},
   "outputs": [
    {
     "data": {
      "text/html": [
       "<div>\n",
       "<style scoped>\n",
       "    .dataframe tbody tr th:only-of-type {\n",
       "        vertical-align: middle;\n",
       "    }\n",
       "\n",
       "    .dataframe tbody tr th {\n",
       "        vertical-align: top;\n",
       "    }\n",
       "\n",
       "    .dataframe thead th {\n",
       "        text-align: right;\n",
       "    }\n",
       "</style>\n",
       "<table border=\"1\" class=\"dataframe\">\n",
       "  <thead>\n",
       "    <tr style=\"text-align: right;\">\n",
       "      <th></th>\n",
       "      <th>CPRO</th>\n",
       "      <th>Province</th>\n",
       "      <th>13_Tot_Evict</th>\n",
       "      <th>13_Mor_Evict</th>\n",
       "      <th>13_Rent_Evict</th>\n",
       "      <th>13_Other</th>\n",
       "      <th>14_Tot_Evict</th>\n",
       "      <th>14_Mor_Evict</th>\n",
       "      <th>14_Rent_Evict</th>\n",
       "      <th>14_Other</th>\n",
       "      <th>...</th>\n",
       "      <th>17_Other</th>\n",
       "      <th>18_Tot_Evict</th>\n",
       "      <th>18_Mor_Evict</th>\n",
       "      <th>18_Rent_Evict</th>\n",
       "      <th>18_Other</th>\n",
       "      <th>19_Tot_Evict</th>\n",
       "      <th>19_Mor_Evict</th>\n",
       "      <th>19_Rent_Evict</th>\n",
       "      <th>19_Other</th>\n",
       "      <th>geometry</th>\n",
       "    </tr>\n",
       "  </thead>\n",
       "  <tbody>\n",
       "    <tr>\n",
       "      <th>0</th>\n",
       "      <td>15</td>\n",
       "      <td>La Coruña</td>\n",
       "      <td>989</td>\n",
       "      <td>289</td>\n",
       "      <td>619</td>\n",
       "      <td>81</td>\n",
       "      <td>960</td>\n",
       "      <td>330</td>\n",
       "      <td>579</td>\n",
       "      <td>51</td>\n",
       "      <td>...</td>\n",
       "      <td>37</td>\n",
       "      <td>691</td>\n",
       "      <td>181</td>\n",
       "      <td>488</td>\n",
       "      <td>22</td>\n",
       "      <td>942</td>\n",
       "      <td>182</td>\n",
       "      <td>741</td>\n",
       "      <td>19</td>\n",
       "      <td>None</td>\n",
       "    </tr>\n",
       "    <tr>\n",
       "      <th>1</th>\n",
       "      <td>01</td>\n",
       "      <td>Álava</td>\n",
       "      <td>243</td>\n",
       "      <td>64</td>\n",
       "      <td>155</td>\n",
       "      <td>24</td>\n",
       "      <td>232</td>\n",
       "      <td>32</td>\n",
       "      <td>175</td>\n",
       "      <td>25</td>\n",
       "      <td>...</td>\n",
       "      <td>15</td>\n",
       "      <td>258</td>\n",
       "      <td>51</td>\n",
       "      <td>205</td>\n",
       "      <td>2</td>\n",
       "      <td>228</td>\n",
       "      <td>25</td>\n",
       "      <td>201</td>\n",
       "      <td>2</td>\n",
       "      <td>None</td>\n",
       "    </tr>\n",
       "    <tr>\n",
       "      <th>2</th>\n",
       "      <td>02</td>\n",
       "      <td>Albacete</td>\n",
       "      <td>491</td>\n",
       "      <td>205</td>\n",
       "      <td>268</td>\n",
       "      <td>18</td>\n",
       "      <td>416</td>\n",
       "      <td>178</td>\n",
       "      <td>207</td>\n",
       "      <td>31</td>\n",
       "      <td>...</td>\n",
       "      <td>14</td>\n",
       "      <td>396</td>\n",
       "      <td>130</td>\n",
       "      <td>250</td>\n",
       "      <td>16</td>\n",
       "      <td>301</td>\n",
       "      <td>88</td>\n",
       "      <td>197</td>\n",
       "      <td>16</td>\n",
       "      <td>None</td>\n",
       "    </tr>\n",
       "    <tr>\n",
       "      <th>3</th>\n",
       "      <td>03</td>\n",
       "      <td>Alicante</td>\n",
       "      <td>4205</td>\n",
       "      <td>2532</td>\n",
       "      <td>1530</td>\n",
       "      <td>143</td>\n",
       "      <td>4297</td>\n",
       "      <td>2782</td>\n",
       "      <td>1416</td>\n",
       "      <td>99</td>\n",
       "      <td>...</td>\n",
       "      <td>79</td>\n",
       "      <td>3350</td>\n",
       "      <td>1395</td>\n",
       "      <td>1864</td>\n",
       "      <td>91</td>\n",
       "      <td>3184</td>\n",
       "      <td>1123</td>\n",
       "      <td>1948</td>\n",
       "      <td>113</td>\n",
       "      <td>None</td>\n",
       "    </tr>\n",
       "    <tr>\n",
       "      <th>4</th>\n",
       "      <td>04</td>\n",
       "      <td>Almería</td>\n",
       "      <td>853</td>\n",
       "      <td>524</td>\n",
       "      <td>293</td>\n",
       "      <td>36</td>\n",
       "      <td>1045</td>\n",
       "      <td>637</td>\n",
       "      <td>355</td>\n",
       "      <td>53</td>\n",
       "      <td>...</td>\n",
       "      <td>21</td>\n",
       "      <td>1164</td>\n",
       "      <td>649</td>\n",
       "      <td>449</td>\n",
       "      <td>66</td>\n",
       "      <td>1285</td>\n",
       "      <td>736</td>\n",
       "      <td>499</td>\n",
       "      <td>50</td>\n",
       "      <td>None</td>\n",
       "    </tr>\n",
       "  </tbody>\n",
       "</table>\n",
       "<p>5 rows × 31 columns</p>\n",
       "</div>"
      ],
      "text/plain": [
       "  CPRO   Province 13_Tot_Evict 13_Mor_Evict 13_Rent_Evict 13_Other  \\\n",
       "0   15  La Coruña          989          289           619       81   \n",
       "1   01      Álava          243           64           155       24   \n",
       "2   02   Albacete          491          205           268       18   \n",
       "3   03   Alicante         4205         2532          1530      143   \n",
       "4   04    Almería          853          524           293       36   \n",
       "\n",
       "  14_Tot_Evict 14_Mor_Evict 14_Rent_Evict 14_Other  ... 17_Other 18_Tot_Evict  \\\n",
       "0          960          330           579       51  ...       37          691   \n",
       "1          232           32           175       25  ...       15          258   \n",
       "2          416          178           207       31  ...       14          396   \n",
       "3         4297         2782          1416       99  ...       79         3350   \n",
       "4         1045          637           355       53  ...       21         1164   \n",
       "\n",
       "  18_Mor_Evict 18_Rent_Evict 18_Other 19_Tot_Evict 19_Mor_Evict 19_Rent_Evict  \\\n",
       "0          181           488       22          942          182           741   \n",
       "1           51           205        2          228           25           201   \n",
       "2          130           250       16          301           88           197   \n",
       "3         1395          1864       91         3184         1123          1948   \n",
       "4          649           449       66         1285          736           499   \n",
       "\n",
       "  19_Other geometry  \n",
       "0       19     None  \n",
       "1        2     None  \n",
       "2       16     None  \n",
       "3      113     None  \n",
       "4       50     None  \n",
       "\n",
       "[5 rows x 31 columns]"
      ]
     },
     "execution_count": 6,
     "metadata": {},
     "output_type": "execute_result"
    }
   ],
   "source": [
    "#import eviction dataframe\n",
    "edf = gpd.read_file('Eviction_Data/Eviction_Province_2013-2019.csv')\n",
    "edf.head()"
   ]
  },
  {
   "cell_type": "markdown",
   "metadata": {},
   "source": [
    "It looks good! Like I mentioned in the introduction, I combined the Judicial Districts into Provinces in Excel, so I had a pretty decent idea of what the data would look like, and that it was prepped and clean. I do need to check that the data in CPRO is ready to merge with the other df. "
   ]
  },
  {
   "cell_type": "code",
   "execution_count": 7,
   "metadata": {},
   "outputs": [
    {
     "data": {
      "text/plain": [
       "CPRO               object\n",
       "Province           object\n",
       "13_Tot_Evict       object\n",
       "13_Mor_Evict       object\n",
       "13_Rent_Evict      object\n",
       "13_Other           object\n",
       "14_Tot_Evict       object\n",
       "14_Mor_Evict       object\n",
       "14_Rent_Evict      object\n",
       "14_Other           object\n",
       "15_Tot_Evict       object\n",
       "15_Mor_Evict       object\n",
       "15_Rent_Evict      object\n",
       "15_Other           object\n",
       "16_Tot_Evict       object\n",
       "16_Mor_Evict       object\n",
       "16_Rent_Evict      object\n",
       "16_Other           object\n",
       "17_Tot_Evict       object\n",
       "17_Mor_Evict       object\n",
       "17_Rent_Evict      object\n",
       "17_Other           object\n",
       "18_Tot_Evict       object\n",
       "18_Mor_Evict       object\n",
       "18_Rent_Evict      object\n",
       "18_Other           object\n",
       "19_Tot_Evict       object\n",
       "19_Mor_Evict       object\n",
       "19_Rent_Evict      object\n",
       "19_Other           object\n",
       "geometry         geometry\n",
       "dtype: object"
      ]
     },
     "execution_count": 7,
     "metadata": {},
     "output_type": "execute_result"
    }
   ],
   "source": [
    "#check data types\n",
    "edf.dtypes"
   ]
  },
  {
   "cell_type": "markdown",
   "metadata": {},
   "source": [
    "Wow, so many objects. Let's change that."
   ]
  },
  {
   "cell_type": "code",
   "execution_count": 8,
   "metadata": {},
   "outputs": [],
   "source": [
    "#change dtype for all numbers to int\n",
    "edf['CPRO'] = edf['CPRO'].astype(int)\n",
    "edf['13_Tot_Evict'] = edf['13_Tot_Evict'].astype(int)\n",
    "edf['13_Mor_Evict'] = edf['13_Mor_Evict'].astype(int)\n",
    "edf['13_Rent_Evict'] = edf['13_Rent_Evict'].astype(int)\n",
    "edf['13_Other'] = edf['13_Other'].astype(int)\n",
    "edf['14_Tot_Evict'] = edf['14_Tot_Evict'].astype(int)\n",
    "edf['14_Mor_Evict'] = edf['14_Mor_Evict'].astype(int)\n",
    "edf['14_Rent_Evict'] = edf['14_Rent_Evict'].astype(int)\n",
    "edf['14_Other'] = edf['14_Other'].astype(int)\n",
    "edf['15_Tot_Evict'] = edf['15_Tot_Evict'].astype(int)\n",
    "edf['15_Mor_Evict'] = edf['15_Mor_Evict'].astype(int)\n",
    "edf['15_Rent_Evict'] = edf['15_Rent_Evict'].astype(int)\n",
    "edf['15_Other'] = edf['15_Other'].astype(int)\n",
    "edf['16_Tot_Evict'] = edf['16_Tot_Evict'].astype(int)\n",
    "edf['16_Mor_Evict'] = edf['16_Mor_Evict'].astype(int)\n",
    "edf['16_Rent_Evict'] = edf['16_Rent_Evict'].astype(int)\n",
    "edf['16_Other'] = edf['16_Other'].astype(int)\n",
    "edf['17_Tot_Evict'] = edf['17_Tot_Evict'].astype(int)\n",
    "edf['17_Mor_Evict'] = edf['17_Mor_Evict'].astype(int)\n",
    "edf['17_Rent_Evict'] = edf['17_Rent_Evict'].astype(int)\n",
    "edf['17_Other'] = edf['17_Other'].astype(int)\n",
    "edf['18_Tot_Evict'] = edf['18_Tot_Evict'].astype(int)\n",
    "edf['18_Mor_Evict'] = edf['18_Mor_Evict'].astype(int)\n",
    "edf['18_Rent_Evict'] = edf['18_Rent_Evict'].astype(int)\n",
    "edf['18_Other'] = edf['18_Other'].astype(int)\n",
    "edf['19_Tot_Evict'] = edf['19_Tot_Evict'].astype(int)\n",
    "edf['19_Mor_Evict'] = edf['19_Mor_Evict'].astype(int)\n",
    "edf['19_Rent_Evict'] = edf['19_Rent_Evict'].astype(int)\n",
    "edf['19_Other'] = edf['19_Other'].astype(int)"
   ]
  },
  {
   "cell_type": "code",
   "execution_count": 9,
   "metadata": {},
   "outputs": [
    {
     "data": {
      "text/plain": [
       "CPRO                int64\n",
       "Province           object\n",
       "13_Tot_Evict        int64\n",
       "13_Mor_Evict        int64\n",
       "13_Rent_Evict       int64\n",
       "13_Other            int64\n",
       "14_Tot_Evict        int64\n",
       "14_Mor_Evict        int64\n",
       "14_Rent_Evict       int64\n",
       "14_Other            int64\n",
       "15_Tot_Evict        int64\n",
       "15_Mor_Evict        int64\n",
       "15_Rent_Evict       int64\n",
       "15_Other            int64\n",
       "16_Tot_Evict        int64\n",
       "16_Mor_Evict        int64\n",
       "16_Rent_Evict       int64\n",
       "16_Other            int64\n",
       "17_Tot_Evict        int64\n",
       "17_Mor_Evict        int64\n",
       "17_Rent_Evict       int64\n",
       "17_Other            int64\n",
       "18_Tot_Evict        int64\n",
       "18_Mor_Evict        int64\n",
       "18_Rent_Evict       int64\n",
       "18_Other            int64\n",
       "19_Tot_Evict        int64\n",
       "19_Mor_Evict        int64\n",
       "19_Rent_Evict       int64\n",
       "19_Other            int64\n",
       "geometry         geometry\n",
       "dtype: object"
      ]
     },
     "execution_count": 9,
     "metadata": {},
     "output_type": "execute_result"
    }
   ],
   "source": [
    "#check my work\n",
    "edf.dtypes"
   ]
  },
  {
   "cell_type": "markdown",
   "metadata": {},
   "source": [
    "## Merge dataframes.\n",
    "\n",
    "Ok, happy that worked. The dataframes should be ready to merge. "
   ]
  },
  {
   "cell_type": "code",
   "execution_count": 10,
   "metadata": {},
   "outputs": [],
   "source": [
    "#merge geo data into eviction data\n",
    "edf2 = edf.merge(pdf_trimmed, left_on='CPRO', right_on = 'CPRO')"
   ]
  },
  {
   "cell_type": "code",
   "execution_count": 11,
   "metadata": {},
   "outputs": [
    {
     "data": {
      "text/html": [
       "<div>\n",
       "<style scoped>\n",
       "    .dataframe tbody tr th:only-of-type {\n",
       "        vertical-align: middle;\n",
       "    }\n",
       "\n",
       "    .dataframe tbody tr th {\n",
       "        vertical-align: top;\n",
       "    }\n",
       "\n",
       "    .dataframe thead th {\n",
       "        text-align: right;\n",
       "    }\n",
       "</style>\n",
       "<table border=\"1\" class=\"dataframe\">\n",
       "  <thead>\n",
       "    <tr style=\"text-align: right;\">\n",
       "      <th></th>\n",
       "      <th>CPRO</th>\n",
       "      <th>Province</th>\n",
       "      <th>13_Tot_Evict</th>\n",
       "      <th>13_Mor_Evict</th>\n",
       "      <th>13_Rent_Evict</th>\n",
       "      <th>13_Other</th>\n",
       "      <th>14_Tot_Evict</th>\n",
       "      <th>14_Mor_Evict</th>\n",
       "      <th>14_Rent_Evict</th>\n",
       "      <th>14_Other</th>\n",
       "      <th>...</th>\n",
       "      <th>18_Tot_Evict</th>\n",
       "      <th>18_Mor_Evict</th>\n",
       "      <th>18_Rent_Evict</th>\n",
       "      <th>18_Other</th>\n",
       "      <th>19_Tot_Evict</th>\n",
       "      <th>19_Mor_Evict</th>\n",
       "      <th>19_Rent_Evict</th>\n",
       "      <th>19_Other</th>\n",
       "      <th>geometry_x</th>\n",
       "      <th>geometry_y</th>\n",
       "    </tr>\n",
       "  </thead>\n",
       "  <tbody>\n",
       "    <tr>\n",
       "      <th>0</th>\n",
       "      <td>15</td>\n",
       "      <td>La Coruña</td>\n",
       "      <td>989</td>\n",
       "      <td>289</td>\n",
       "      <td>619</td>\n",
       "      <td>81</td>\n",
       "      <td>960</td>\n",
       "      <td>330</td>\n",
       "      <td>579</td>\n",
       "      <td>51</td>\n",
       "      <td>...</td>\n",
       "      <td>691</td>\n",
       "      <td>181</td>\n",
       "      <td>488</td>\n",
       "      <td>22</td>\n",
       "      <td>942</td>\n",
       "      <td>182</td>\n",
       "      <td>741</td>\n",
       "      <td>19</td>\n",
       "      <td>None</td>\n",
       "      <td>MULTIPOLYGON (((5572.820 4721233.354, 5614.821...</td>\n",
       "    </tr>\n",
       "    <tr>\n",
       "      <th>1</th>\n",
       "      <td>1</td>\n",
       "      <td>Álava</td>\n",
       "      <td>243</td>\n",
       "      <td>64</td>\n",
       "      <td>155</td>\n",
       "      <td>24</td>\n",
       "      <td>232</td>\n",
       "      <td>32</td>\n",
       "      <td>175</td>\n",
       "      <td>25</td>\n",
       "      <td>...</td>\n",
       "      <td>258</td>\n",
       "      <td>51</td>\n",
       "      <td>205</td>\n",
       "      <td>2</td>\n",
       "      <td>228</td>\n",
       "      <td>25</td>\n",
       "      <td>201</td>\n",
       "      <td>2</td>\n",
       "      <td>None</td>\n",
       "      <td>POLYGON ((537063.531 4703664.589, 536887.844 4...</td>\n",
       "    </tr>\n",
       "    <tr>\n",
       "      <th>2</th>\n",
       "      <td>2</td>\n",
       "      <td>Albacete</td>\n",
       "      <td>491</td>\n",
       "      <td>205</td>\n",
       "      <td>268</td>\n",
       "      <td>18</td>\n",
       "      <td>416</td>\n",
       "      <td>178</td>\n",
       "      <td>207</td>\n",
       "      <td>31</td>\n",
       "      <td>...</td>\n",
       "      <td>396</td>\n",
       "      <td>130</td>\n",
       "      <td>250</td>\n",
       "      <td>16</td>\n",
       "      <td>301</td>\n",
       "      <td>88</td>\n",
       "      <td>197</td>\n",
       "      <td>16</td>\n",
       "      <td>None</td>\n",
       "      <td>POLYGON ((568861.458 4228498.857, 568863.454 4...</td>\n",
       "    </tr>\n",
       "    <tr>\n",
       "      <th>3</th>\n",
       "      <td>3</td>\n",
       "      <td>Alicante</td>\n",
       "      <td>4205</td>\n",
       "      <td>2532</td>\n",
       "      <td>1530</td>\n",
       "      <td>143</td>\n",
       "      <td>4297</td>\n",
       "      <td>2782</td>\n",
       "      <td>1416</td>\n",
       "      <td>99</td>\n",
       "      <td>...</td>\n",
       "      <td>3350</td>\n",
       "      <td>1395</td>\n",
       "      <td>1864</td>\n",
       "      <td>91</td>\n",
       "      <td>3184</td>\n",
       "      <td>1123</td>\n",
       "      <td>1948</td>\n",
       "      <td>113</td>\n",
       "      <td>None</td>\n",
       "      <td>MULTIPOLYGON (((701641.529 4201786.197, 701679...</td>\n",
       "    </tr>\n",
       "    <tr>\n",
       "      <th>4</th>\n",
       "      <td>4</td>\n",
       "      <td>Almería</td>\n",
       "      <td>853</td>\n",
       "      <td>524</td>\n",
       "      <td>293</td>\n",
       "      <td>36</td>\n",
       "      <td>1045</td>\n",
       "      <td>637</td>\n",
       "      <td>355</td>\n",
       "      <td>53</td>\n",
       "      <td>...</td>\n",
       "      <td>1164</td>\n",
       "      <td>649</td>\n",
       "      <td>449</td>\n",
       "      <td>66</td>\n",
       "      <td>1285</td>\n",
       "      <td>736</td>\n",
       "      <td>499</td>\n",
       "      <td>50</td>\n",
       "      <td>None</td>\n",
       "      <td>MULTIPOLYGON (((519527.321 4060404.620, 519513...</td>\n",
       "    </tr>\n",
       "  </tbody>\n",
       "</table>\n",
       "<p>5 rows × 32 columns</p>\n",
       "</div>"
      ],
      "text/plain": [
       "   CPRO   Province  13_Tot_Evict  13_Mor_Evict  13_Rent_Evict  13_Other  \\\n",
       "0    15  La Coruña           989           289            619        81   \n",
       "1     1      Álava           243            64            155        24   \n",
       "2     2   Albacete           491           205            268        18   \n",
       "3     3   Alicante          4205          2532           1530       143   \n",
       "4     4    Almería           853           524            293        36   \n",
       "\n",
       "   14_Tot_Evict  14_Mor_Evict  14_Rent_Evict  14_Other  ...  18_Tot_Evict  \\\n",
       "0           960           330            579        51  ...           691   \n",
       "1           232            32            175        25  ...           258   \n",
       "2           416           178            207        31  ...           396   \n",
       "3          4297          2782           1416        99  ...          3350   \n",
       "4          1045           637            355        53  ...          1164   \n",
       "\n",
       "   18_Mor_Evict  18_Rent_Evict  18_Other  19_Tot_Evict  19_Mor_Evict  \\\n",
       "0           181            488        22           942           182   \n",
       "1            51            205         2           228            25   \n",
       "2           130            250        16           301            88   \n",
       "3          1395           1864        91          3184          1123   \n",
       "4           649            449        66          1285           736   \n",
       "\n",
       "   19_Rent_Evict  19_Other  geometry_x  \\\n",
       "0            741        19        None   \n",
       "1            201         2        None   \n",
       "2            197        16        None   \n",
       "3           1948       113        None   \n",
       "4            499        50        None   \n",
       "\n",
       "                                          geometry_y  \n",
       "0  MULTIPOLYGON (((5572.820 4721233.354, 5614.821...  \n",
       "1  POLYGON ((537063.531 4703664.589, 536887.844 4...  \n",
       "2  POLYGON ((568861.458 4228498.857, 568863.454 4...  \n",
       "3  MULTIPOLYGON (((701641.529 4201786.197, 701679...  \n",
       "4  MULTIPOLYGON (((519527.321 4060404.620, 519513...  \n",
       "\n",
       "[5 rows x 32 columns]"
      ]
     },
     "execution_count": 11,
     "metadata": {},
     "output_type": "execute_result"
    }
   ],
   "source": [
    "#check it out\n",
    "edf2.head()"
   ]
  },
  {
   "cell_type": "markdown",
   "metadata": {},
   "source": [
    "I gained an extra geometry column and my geometry column name changed. Fixing that next."
   ]
  },
  {
   "cell_type": "code",
   "execution_count": 12,
   "metadata": {},
   "outputs": [
    {
     "data": {
      "text/html": [
       "<div>\n",
       "<style scoped>\n",
       "    .dataframe tbody tr th:only-of-type {\n",
       "        vertical-align: middle;\n",
       "    }\n",
       "\n",
       "    .dataframe tbody tr th {\n",
       "        vertical-align: top;\n",
       "    }\n",
       "\n",
       "    .dataframe thead th {\n",
       "        text-align: right;\n",
       "    }\n",
       "</style>\n",
       "<table border=\"1\" class=\"dataframe\">\n",
       "  <thead>\n",
       "    <tr style=\"text-align: right;\">\n",
       "      <th></th>\n",
       "      <th>CPRO</th>\n",
       "      <th>Province</th>\n",
       "      <th>13_Tot_Evict</th>\n",
       "      <th>13_Mor_Evict</th>\n",
       "      <th>13_Rent_Evict</th>\n",
       "      <th>13_Other</th>\n",
       "      <th>14_Tot_Evict</th>\n",
       "      <th>14_Mor_Evict</th>\n",
       "      <th>14_Rent_Evict</th>\n",
       "      <th>14_Other</th>\n",
       "      <th>...</th>\n",
       "      <th>17_Other</th>\n",
       "      <th>18_Tot_Evict</th>\n",
       "      <th>18_Mor_Evict</th>\n",
       "      <th>18_Rent_Evict</th>\n",
       "      <th>18_Other</th>\n",
       "      <th>19_Tot_Evict</th>\n",
       "      <th>19_Mor_Evict</th>\n",
       "      <th>19_Rent_Evict</th>\n",
       "      <th>19_Other</th>\n",
       "      <th>geometry</th>\n",
       "    </tr>\n",
       "  </thead>\n",
       "  <tbody>\n",
       "    <tr>\n",
       "      <th>0</th>\n",
       "      <td>15</td>\n",
       "      <td>La Coruña</td>\n",
       "      <td>989</td>\n",
       "      <td>289</td>\n",
       "      <td>619</td>\n",
       "      <td>81</td>\n",
       "      <td>960</td>\n",
       "      <td>330</td>\n",
       "      <td>579</td>\n",
       "      <td>51</td>\n",
       "      <td>...</td>\n",
       "      <td>37</td>\n",
       "      <td>691</td>\n",
       "      <td>181</td>\n",
       "      <td>488</td>\n",
       "      <td>22</td>\n",
       "      <td>942</td>\n",
       "      <td>182</td>\n",
       "      <td>741</td>\n",
       "      <td>19</td>\n",
       "      <td>MULTIPOLYGON (((5572.820 4721233.354, 5614.821...</td>\n",
       "    </tr>\n",
       "    <tr>\n",
       "      <th>1</th>\n",
       "      <td>1</td>\n",
       "      <td>Álava</td>\n",
       "      <td>243</td>\n",
       "      <td>64</td>\n",
       "      <td>155</td>\n",
       "      <td>24</td>\n",
       "      <td>232</td>\n",
       "      <td>32</td>\n",
       "      <td>175</td>\n",
       "      <td>25</td>\n",
       "      <td>...</td>\n",
       "      <td>15</td>\n",
       "      <td>258</td>\n",
       "      <td>51</td>\n",
       "      <td>205</td>\n",
       "      <td>2</td>\n",
       "      <td>228</td>\n",
       "      <td>25</td>\n",
       "      <td>201</td>\n",
       "      <td>2</td>\n",
       "      <td>POLYGON ((537063.531 4703664.589, 536887.844 4...</td>\n",
       "    </tr>\n",
       "    <tr>\n",
       "      <th>2</th>\n",
       "      <td>2</td>\n",
       "      <td>Albacete</td>\n",
       "      <td>491</td>\n",
       "      <td>205</td>\n",
       "      <td>268</td>\n",
       "      <td>18</td>\n",
       "      <td>416</td>\n",
       "      <td>178</td>\n",
       "      <td>207</td>\n",
       "      <td>31</td>\n",
       "      <td>...</td>\n",
       "      <td>14</td>\n",
       "      <td>396</td>\n",
       "      <td>130</td>\n",
       "      <td>250</td>\n",
       "      <td>16</td>\n",
       "      <td>301</td>\n",
       "      <td>88</td>\n",
       "      <td>197</td>\n",
       "      <td>16</td>\n",
       "      <td>POLYGON ((568861.458 4228498.857, 568863.454 4...</td>\n",
       "    </tr>\n",
       "    <tr>\n",
       "      <th>3</th>\n",
       "      <td>3</td>\n",
       "      <td>Alicante</td>\n",
       "      <td>4205</td>\n",
       "      <td>2532</td>\n",
       "      <td>1530</td>\n",
       "      <td>143</td>\n",
       "      <td>4297</td>\n",
       "      <td>2782</td>\n",
       "      <td>1416</td>\n",
       "      <td>99</td>\n",
       "      <td>...</td>\n",
       "      <td>79</td>\n",
       "      <td>3350</td>\n",
       "      <td>1395</td>\n",
       "      <td>1864</td>\n",
       "      <td>91</td>\n",
       "      <td>3184</td>\n",
       "      <td>1123</td>\n",
       "      <td>1948</td>\n",
       "      <td>113</td>\n",
       "      <td>MULTIPOLYGON (((701641.529 4201786.197, 701679...</td>\n",
       "    </tr>\n",
       "    <tr>\n",
       "      <th>4</th>\n",
       "      <td>4</td>\n",
       "      <td>Almería</td>\n",
       "      <td>853</td>\n",
       "      <td>524</td>\n",
       "      <td>293</td>\n",
       "      <td>36</td>\n",
       "      <td>1045</td>\n",
       "      <td>637</td>\n",
       "      <td>355</td>\n",
       "      <td>53</td>\n",
       "      <td>...</td>\n",
       "      <td>21</td>\n",
       "      <td>1164</td>\n",
       "      <td>649</td>\n",
       "      <td>449</td>\n",
       "      <td>66</td>\n",
       "      <td>1285</td>\n",
       "      <td>736</td>\n",
       "      <td>499</td>\n",
       "      <td>50</td>\n",
       "      <td>MULTIPOLYGON (((519527.321 4060404.620, 519513...</td>\n",
       "    </tr>\n",
       "  </tbody>\n",
       "</table>\n",
       "<p>5 rows × 31 columns</p>\n",
       "</div>"
      ],
      "text/plain": [
       "   CPRO   Province  13_Tot_Evict  13_Mor_Evict  13_Rent_Evict  13_Other  \\\n",
       "0    15  La Coruña           989           289            619        81   \n",
       "1     1      Álava           243            64            155        24   \n",
       "2     2   Albacete           491           205            268        18   \n",
       "3     3   Alicante          4205          2532           1530       143   \n",
       "4     4    Almería           853           524            293        36   \n",
       "\n",
       "   14_Tot_Evict  14_Mor_Evict  14_Rent_Evict  14_Other  ...  17_Other  \\\n",
       "0           960           330            579        51  ...        37   \n",
       "1           232            32            175        25  ...        15   \n",
       "2           416           178            207        31  ...        14   \n",
       "3          4297          2782           1416        99  ...        79   \n",
       "4          1045           637            355        53  ...        21   \n",
       "\n",
       "   18_Tot_Evict  18_Mor_Evict  18_Rent_Evict  18_Other  19_Tot_Evict  \\\n",
       "0           691           181            488        22           942   \n",
       "1           258            51            205         2           228   \n",
       "2           396           130            250        16           301   \n",
       "3          3350          1395           1864        91          3184   \n",
       "4          1164           649            449        66          1285   \n",
       "\n",
       "   19_Mor_Evict  19_Rent_Evict  19_Other  \\\n",
       "0           182            741        19   \n",
       "1            25            201         2   \n",
       "2            88            197        16   \n",
       "3          1123           1948       113   \n",
       "4           736            499        50   \n",
       "\n",
       "                                            geometry  \n",
       "0  MULTIPOLYGON (((5572.820 4721233.354, 5614.821...  \n",
       "1  POLYGON ((537063.531 4703664.589, 536887.844 4...  \n",
       "2  POLYGON ((568861.458 4228498.857, 568863.454 4...  \n",
       "3  MULTIPOLYGON (((701641.529 4201786.197, 701679...  \n",
       "4  MULTIPOLYGON (((519527.321 4060404.620, 519513...  \n",
       "\n",
       "[5 rows x 31 columns]"
      ]
     },
     "execution_count": 12,
     "metadata": {},
     "output_type": "execute_result"
    }
   ],
   "source": [
    "#drop extra column and rename geometry_y as just geometry\n",
    "edf2= edf2.drop(columns = 'geometry_x')\n",
    "edf2= edf2.rename(columns = {'geometry_y': 'geometry'})\n",
    "edf2.head()"
   ]
  },
  {
   "cell_type": "markdown",
   "metadata": {},
   "source": [
    "## Create Map of Evictions\n",
    "\n",
    "Ok! I have the dataframes connected and clean! Now I want to see if I can plot it. "
   ]
  },
  {
   "cell_type": "code",
   "execution_count": 13,
   "metadata": {},
   "outputs": [
    {
     "data": {
      "text/plain": [
       "<matplotlib.axes._subplots.AxesSubplot at 0x7fddc1eb83d0>"
      ]
     },
     "execution_count": 13,
     "metadata": {},
     "output_type": "execute_result"
    },
    {
     "data": {
      "image/png": "[encoded data removed]",
      "text/plain": [
       "<Figure size 432x288 with 1 Axes>"
      ]
     },
     "metadata": {
      "needs_background": "light"
     },
     "output_type": "display_data"
    }
   ],
   "source": [
    "#quick lil plot to make sure we're all good. \n",
    "edf2.plot()"
   ]
  },
  {
   "cell_type": "markdown",
   "metadata": {},
   "source": [
    "Looks like the dataframe isn't a geodataframe. Need to check and change it. "
   ]
  },
  {
   "cell_type": "code",
   "execution_count": 14,
   "metadata": {},
   "outputs": [
    {
     "data": {
      "text/plain": [
       "pandas.core.frame.DataFrame"
      ]
     },
     "execution_count": 14,
     "metadata": {},
     "output_type": "execute_result"
    }
   ],
   "source": [
    "#check type to see what kind of df \n",
    "type(edf2)"
   ]
  },
  {
   "cell_type": "code",
   "execution_count": 15,
   "metadata": {},
   "outputs": [],
   "source": [
    "# import GeoDataFrame from geopandas\n",
    "from geopandas import GeoDataFrame"
   ]
  },
  {
   "cell_type": "code",
   "execution_count": 16,
   "metadata": {},
   "outputs": [],
   "source": [
    "#change from pandas to geopandas\n",
    "edf2= GeoDataFrame(edf2)"
   ]
  },
  {
   "cell_type": "code",
   "execution_count": 17,
   "metadata": {},
   "outputs": [
    {
     "data": {
      "text/plain": [
       "geopandas.geodataframe.GeoDataFrame"
      ]
     },
     "execution_count": 17,
     "metadata": {},
     "output_type": "execute_result"
    }
   ],
   "source": [
    "#check type again.\n",
    "type(edf2)"
   ]
  },
  {
   "cell_type": "code",
   "execution_count": 18,
   "metadata": {},
   "outputs": [
    {
     "data": {
      "text/plain": [
       "<matplotlib.axes._subplots.AxesSubplot at 0x7fddbff38a60>"
      ]
     },
     "execution_count": 18,
     "metadata": {},
     "output_type": "execute_result"
    },
    {
     "data": {
      "image/png": "[encoded data removed]",
      "text/plain": [
       "<Figure size 432x288 with 1 Axes>"
      ]
     },
     "metadata": {
      "needs_background": "light"
     },
     "output_type": "display_data"
    }
   ],
   "source": [
    "#try simple plot again\n",
    "edf2.plot()"
   ]
  },
  {
   "cell_type": "markdown",
   "metadata": {},
   "source": [
    "Looks like Spain to me!!\n",
    "\n",
    "I want to create a map of the total number of evictions by province. I'll start by creating a total number of eviction column that sums the evictions over the 7 years of available data."
   ]
  },
  {
   "cell_type": "code",
   "execution_count": 19,
   "metadata": {},
   "outputs": [
    {
     "data": {
      "text/html": [
       "<div>\n",
       "<style scoped>\n",
       "    .dataframe tbody tr th:only-of-type {\n",
       "        vertical-align: middle;\n",
       "    }\n",
       "\n",
       "    .dataframe tbody tr th {\n",
       "        vertical-align: top;\n",
       "    }\n",
       "\n",
       "    .dataframe thead th {\n",
       "        text-align: right;\n",
       "    }\n",
       "</style>\n",
       "<table border=\"1\" class=\"dataframe\">\n",
       "  <thead>\n",
       "    <tr style=\"text-align: right;\">\n",
       "      <th></th>\n",
       "      <th>CPRO</th>\n",
       "      <th>Province</th>\n",
       "      <th>13_Tot_Evict</th>\n",
       "      <th>13_Mor_Evict</th>\n",
       "      <th>13_Rent_Evict</th>\n",
       "      <th>13_Other</th>\n",
       "      <th>14_Tot_Evict</th>\n",
       "      <th>14_Mor_Evict</th>\n",
       "      <th>14_Rent_Evict</th>\n",
       "      <th>14_Other</th>\n",
       "      <th>...</th>\n",
       "      <th>18_Tot_Evict</th>\n",
       "      <th>18_Mor_Evict</th>\n",
       "      <th>18_Rent_Evict</th>\n",
       "      <th>18_Other</th>\n",
       "      <th>19_Tot_Evict</th>\n",
       "      <th>19_Mor_Evict</th>\n",
       "      <th>19_Rent_Evict</th>\n",
       "      <th>19_Other</th>\n",
       "      <th>geometry</th>\n",
       "      <th>Sum_Evictions</th>\n",
       "    </tr>\n",
       "  </thead>\n",
       "  <tbody>\n",
       "    <tr>\n",
       "      <th>0</th>\n",
       "      <td>15</td>\n",
       "      <td>La Coruña</td>\n",
       "      <td>989</td>\n",
       "      <td>289</td>\n",
       "      <td>619</td>\n",
       "      <td>81</td>\n",
       "      <td>960</td>\n",
       "      <td>330</td>\n",
       "      <td>579</td>\n",
       "      <td>51</td>\n",
       "      <td>...</td>\n",
       "      <td>691</td>\n",
       "      <td>181</td>\n",
       "      <td>488</td>\n",
       "      <td>22</td>\n",
       "      <td>942</td>\n",
       "      <td>182</td>\n",
       "      <td>741</td>\n",
       "      <td>19</td>\n",
       "      <td>MULTIPOLYGON (((5572.820 4721233.354, 5614.821...</td>\n",
       "      <td>6254</td>\n",
       "    </tr>\n",
       "    <tr>\n",
       "      <th>1</th>\n",
       "      <td>1</td>\n",
       "      <td>Álava</td>\n",
       "      <td>243</td>\n",
       "      <td>64</td>\n",
       "      <td>155</td>\n",
       "      <td>24</td>\n",
       "      <td>232</td>\n",
       "      <td>32</td>\n",
       "      <td>175</td>\n",
       "      <td>25</td>\n",
       "      <td>...</td>\n",
       "      <td>258</td>\n",
       "      <td>51</td>\n",
       "      <td>205</td>\n",
       "      <td>2</td>\n",
       "      <td>228</td>\n",
       "      <td>25</td>\n",
       "      <td>201</td>\n",
       "      <td>2</td>\n",
       "      <td>POLYGON ((537063.531 4703664.589, 536887.844 4...</td>\n",
       "      <td>1720</td>\n",
       "    </tr>\n",
       "    <tr>\n",
       "      <th>2</th>\n",
       "      <td>2</td>\n",
       "      <td>Albacete</td>\n",
       "      <td>491</td>\n",
       "      <td>205</td>\n",
       "      <td>268</td>\n",
       "      <td>18</td>\n",
       "      <td>416</td>\n",
       "      <td>178</td>\n",
       "      <td>207</td>\n",
       "      <td>31</td>\n",
       "      <td>...</td>\n",
       "      <td>396</td>\n",
       "      <td>130</td>\n",
       "      <td>250</td>\n",
       "      <td>16</td>\n",
       "      <td>301</td>\n",
       "      <td>88</td>\n",
       "      <td>197</td>\n",
       "      <td>16</td>\n",
       "      <td>POLYGON ((568861.458 4228498.857, 568863.454 4...</td>\n",
       "      <td>2803</td>\n",
       "    </tr>\n",
       "    <tr>\n",
       "      <th>3</th>\n",
       "      <td>3</td>\n",
       "      <td>Alicante</td>\n",
       "      <td>4205</td>\n",
       "      <td>2532</td>\n",
       "      <td>1530</td>\n",
       "      <td>143</td>\n",
       "      <td>4297</td>\n",
       "      <td>2782</td>\n",
       "      <td>1416</td>\n",
       "      <td>99</td>\n",
       "      <td>...</td>\n",
       "      <td>3350</td>\n",
       "      <td>1395</td>\n",
       "      <td>1864</td>\n",
       "      <td>91</td>\n",
       "      <td>3184</td>\n",
       "      <td>1123</td>\n",
       "      <td>1948</td>\n",
       "      <td>113</td>\n",
       "      <td>MULTIPOLYGON (((701641.529 4201786.197, 701679...</td>\n",
       "      <td>26816</td>\n",
       "    </tr>\n",
       "    <tr>\n",
       "      <th>4</th>\n",
       "      <td>4</td>\n",
       "      <td>Almería</td>\n",
       "      <td>853</td>\n",
       "      <td>524</td>\n",
       "      <td>293</td>\n",
       "      <td>36</td>\n",
       "      <td>1045</td>\n",
       "      <td>637</td>\n",
       "      <td>355</td>\n",
       "      <td>53</td>\n",
       "      <td>...</td>\n",
       "      <td>1164</td>\n",
       "      <td>649</td>\n",
       "      <td>449</td>\n",
       "      <td>66</td>\n",
       "      <td>1285</td>\n",
       "      <td>736</td>\n",
       "      <td>499</td>\n",
       "      <td>50</td>\n",
       "      <td>MULTIPOLYGON (((519527.321 4060404.620, 519513...</td>\n",
       "      <td>8120</td>\n",
       "    </tr>\n",
       "  </tbody>\n",
       "</table>\n",
       "<p>5 rows × 32 columns</p>\n",
       "</div>"
      ],
      "text/plain": [
       "   CPRO   Province  13_Tot_Evict  13_Mor_Evict  13_Rent_Evict  13_Other  \\\n",
       "0    15  La Coruña           989           289            619        81   \n",
       "1     1      Álava           243            64            155        24   \n",
       "2     2   Albacete           491           205            268        18   \n",
       "3     3   Alicante          4205          2532           1530       143   \n",
       "4     4    Almería           853           524            293        36   \n",
       "\n",
       "   14_Tot_Evict  14_Mor_Evict  14_Rent_Evict  14_Other  ...  18_Tot_Evict  \\\n",
       "0           960           330            579        51  ...           691   \n",
       "1           232            32            175        25  ...           258   \n",
       "2           416           178            207        31  ...           396   \n",
       "3          4297          2782           1416        99  ...          3350   \n",
       "4          1045           637            355        53  ...          1164   \n",
       "\n",
       "   18_Mor_Evict  18_Rent_Evict  18_Other  19_Tot_Evict  19_Mor_Evict  \\\n",
       "0           181            488        22           942           182   \n",
       "1            51            205         2           228            25   \n",
       "2           130            250        16           301            88   \n",
       "3          1395           1864        91          3184          1123   \n",
       "4           649            449        66          1285           736   \n",
       "\n",
       "   19_Rent_Evict  19_Other                                           geometry  \\\n",
       "0            741        19  MULTIPOLYGON (((5572.820 4721233.354, 5614.821...   \n",
       "1            201         2  POLYGON ((537063.531 4703664.589, 536887.844 4...   \n",
       "2            197        16  POLYGON ((568861.458 4228498.857, 568863.454 4...   \n",
       "3           1948       113  MULTIPOLYGON (((701641.529 4201786.197, 701679...   \n",
       "4            499        50  MULTIPOLYGON (((519527.321 4060404.620, 519513...   \n",
       "\n",
       "   Sum_Evictions  \n",
       "0           6254  \n",
       "1           1720  \n",
       "2           2803  \n",
       "3          26816  \n",
       "4           8120  \n",
       "\n",
       "[5 rows x 32 columns]"
      ]
     },
     "execution_count": 19,
     "metadata": {},
     "output_type": "execute_result"
    }
   ],
   "source": [
    "#create new column with sum of total evictions / year\n",
    "edf2['Sum_Evictions'] = edf2['13_Tot_Evict'] + edf2['14_Tot_Evict'] + edf2['15_Tot_Evict'] + edf2['16_Tot_Evict'] \\\n",
    "+ edf2['17_Tot_Evict'] + edf2['18_Tot_Evict'] + edf2['19_Tot_Evict']\n",
    "edf2.head()\n"
   ]
  },
  {
   "cell_type": "code",
   "execution_count": 20,
   "metadata": {},
   "outputs": [
    {
     "data": {
      "text/html": [
       "<div>\n",
       "<style scoped>\n",
       "    .dataframe tbody tr th:only-of-type {\n",
       "        vertical-align: middle;\n",
       "    }\n",
       "\n",
       "    .dataframe tbody tr th {\n",
       "        vertical-align: top;\n",
       "    }\n",
       "\n",
       "    .dataframe thead th {\n",
       "        text-align: right;\n",
       "    }\n",
       "</style>\n",
       "<table border=\"1\" class=\"dataframe\">\n",
       "  <thead>\n",
       "    <tr style=\"text-align: right;\">\n",
       "      <th></th>\n",
       "      <th>Province</th>\n",
       "      <th>geometry</th>\n",
       "      <th>Sum_Evictions</th>\n",
       "    </tr>\n",
       "  </thead>\n",
       "  <tbody>\n",
       "    <tr>\n",
       "      <th>0</th>\n",
       "      <td>La Coruña</td>\n",
       "      <td>MULTIPOLYGON (((5572.820 4721233.354, 5614.821...</td>\n",
       "      <td>6254</td>\n",
       "    </tr>\n",
       "    <tr>\n",
       "      <th>1</th>\n",
       "      <td>Álava</td>\n",
       "      <td>POLYGON ((537063.531 4703664.589, 536887.844 4...</td>\n",
       "      <td>1720</td>\n",
       "    </tr>\n",
       "    <tr>\n",
       "      <th>2</th>\n",
       "      <td>Albacete</td>\n",
       "      <td>POLYGON ((568861.458 4228498.857, 568863.454 4...</td>\n",
       "      <td>2803</td>\n",
       "    </tr>\n",
       "    <tr>\n",
       "      <th>3</th>\n",
       "      <td>Alicante</td>\n",
       "      <td>MULTIPOLYGON (((701641.529 4201786.197, 701679...</td>\n",
       "      <td>26816</td>\n",
       "    </tr>\n",
       "    <tr>\n",
       "      <th>4</th>\n",
       "      <td>Almería</td>\n",
       "      <td>MULTIPOLYGON (((519527.321 4060404.620, 519513...</td>\n",
       "      <td>8120</td>\n",
       "    </tr>\n",
       "  </tbody>\n",
       "</table>\n",
       "</div>"
      ],
      "text/plain": [
       "    Province                                           geometry  Sum_Evictions\n",
       "0  La Coruña  MULTIPOLYGON (((5572.820 4721233.354, 5614.821...           6254\n",
       "1      Álava  POLYGON ((537063.531 4703664.589, 536887.844 4...           1720\n",
       "2   Albacete  POLYGON ((568861.458 4228498.857, 568863.454 4...           2803\n",
       "3   Alicante  MULTIPOLYGON (((701641.529 4201786.197, 701679...          26816\n",
       "4    Almería  MULTIPOLYGON (((519527.321 4060404.620, 519513...           8120"
      ]
     },
     "execution_count": 20,
     "metadata": {},
     "output_type": "execute_result"
    }
   ],
   "source": [
    "#trim the df to include only the sum evictions, name, and geometry. \n",
    "sum_evictions = edf2 [['Province', 'geometry', 'Sum_Evictions']]\n",
    "sum_evictions.head()"
   ]
  },
  {
   "cell_type": "markdown",
   "metadata": {},
   "source": [
    "Now I have a trimmed df to map that includes the total evictions of the data we have available. Now to make a chloropleth map. "
   ]
  },
  {
   "cell_type": "code",
   "execution_count": 41,
   "metadata": {
    "scrolled": true
   },
   "outputs": [
    {
     "data": {
      "image/png": "[encoded data removed]",
      "text/plain": [
       "<Figure size 720x576 with 1 Axes>"
      ]
     },
     "metadata": {
      "needs_background": "light"
     },
     "output_type": "display_data"
    }
   ],
   "source": [
    "#create a chloropleth map of the total evictions, move the legend to the other side, and export\n",
    "sum_evictions.plot(figsize=(10,8), \n",
    "                 column='Sum_Evictions', cmap= 'YlOrRd',\n",
    "                 legend=True, \n",
    "                 scheme='quantiles', legend_kwds={'loc': 'upper left'})\n",
    "plt.savefig('Map Total Evictions Spain, 2013-2019.png')\n"
   ]
  },
  {
   "cell_type": "markdown",
   "metadata": {},
   "source": [
    "Excellent - I went with a nice topical color for Spain. (Ya know, keeping it thematic.)"
   ]
  },
  {
   "cell_type": "markdown",
   "metadata": {},
   "source": [
    "## Chart of Eviction Types in Barcelona\n",
    "\n",
    "To create the chart, I'll need to pull the Barcelona specific information into a new variable. \n",
    "\n",
    "I tried a couple methods of changing the orientation of this chart, but ended up with unusual indices. I ended up just creating a list of the variables I wanted and creating a new dataframe. This was certainly not the most efficient method, but it was the workaround I found that worked best. \n",
    "\n",
    "I will explore this more later, but I think the index problems I was having would have been solved by flattening the groupby table, but I was trying to fix it beforehand and didn't actually get to that step. I am curious to know, so I'll look into that next week. "
   ]
  },
  {
   "cell_type": "code",
   "execution_count": 22,
   "metadata": {},
   "outputs": [],
   "source": [
    "#grab barcelona row into a new variable.\n",
    "bar_evict = edf2.loc[edf2[\"Province\"] == 'Barcelona']"
   ]
  },
  {
   "cell_type": "code",
   "execution_count": 23,
   "metadata": {},
   "outputs": [
    {
     "data": {
      "text/html": [
       "<div>\n",
       "<style scoped>\n",
       "    .dataframe tbody tr th:only-of-type {\n",
       "        vertical-align: middle;\n",
       "    }\n",
       "\n",
       "    .dataframe tbody tr th {\n",
       "        vertical-align: top;\n",
       "    }\n",
       "\n",
       "    .dataframe thead th {\n",
       "        text-align: right;\n",
       "    }\n",
       "</style>\n",
       "<table border=\"1\" class=\"dataframe\">\n",
       "  <thead>\n",
       "    <tr style=\"text-align: right;\">\n",
       "      <th></th>\n",
       "      <th>CPRO</th>\n",
       "      <th>Province</th>\n",
       "      <th>13_Tot_Evict</th>\n",
       "      <th>13_Mor_Evict</th>\n",
       "      <th>13_Rent_Evict</th>\n",
       "      <th>13_Other</th>\n",
       "      <th>14_Tot_Evict</th>\n",
       "      <th>14_Mor_Evict</th>\n",
       "      <th>14_Rent_Evict</th>\n",
       "      <th>14_Other</th>\n",
       "      <th>...</th>\n",
       "      <th>18_Tot_Evict</th>\n",
       "      <th>18_Mor_Evict</th>\n",
       "      <th>18_Rent_Evict</th>\n",
       "      <th>18_Other</th>\n",
       "      <th>19_Tot_Evict</th>\n",
       "      <th>19_Mor_Evict</th>\n",
       "      <th>19_Rent_Evict</th>\n",
       "      <th>19_Other</th>\n",
       "      <th>geometry</th>\n",
       "      <th>Sum_Evictions</th>\n",
       "    </tr>\n",
       "  </thead>\n",
       "  <tbody>\n",
       "    <tr>\n",
       "      <th>8</th>\n",
       "      <td>8</td>\n",
       "      <td>Barcelona</td>\n",
       "      <td>11101</td>\n",
       "      <td>2329</td>\n",
       "      <td>8127</td>\n",
       "      <td>645</td>\n",
       "      <td>10775</td>\n",
       "      <td>2678</td>\n",
       "      <td>7528</td>\n",
       "      <td>569</td>\n",
       "      <td>...</td>\n",
       "      <td>9131</td>\n",
       "      <td>2012</td>\n",
       "      <td>6100</td>\n",
       "      <td>1019</td>\n",
       "      <td>8424</td>\n",
       "      <td>1518</td>\n",
       "      <td>5848</td>\n",
       "      <td>1058</td>\n",
       "      <td>MULTIPOLYGON (((892759.402 4571741.315, 892725...</td>\n",
       "      <td>68288</td>\n",
       "    </tr>\n",
       "  </tbody>\n",
       "</table>\n",
       "<p>1 rows × 32 columns</p>\n",
       "</div>"
      ],
      "text/plain": [
       "   CPRO   Province  13_Tot_Evict  13_Mor_Evict  13_Rent_Evict  13_Other  \\\n",
       "8     8  Barcelona         11101          2329           8127       645   \n",
       "\n",
       "   14_Tot_Evict  14_Mor_Evict  14_Rent_Evict  14_Other  ...  18_Tot_Evict  \\\n",
       "8         10775          2678           7528       569  ...          9131   \n",
       "\n",
       "   18_Mor_Evict  18_Rent_Evict  18_Other  19_Tot_Evict  19_Mor_Evict  \\\n",
       "8          2012           6100      1019          8424          1518   \n",
       "\n",
       "   19_Rent_Evict  19_Other                                           geometry  \\\n",
       "8           5848      1058  MULTIPOLYGON (((892759.402 4571741.315, 892725...   \n",
       "\n",
       "   Sum_Evictions  \n",
       "8          68288  \n",
       "\n",
       "[1 rows x 32 columns]"
      ]
     },
     "execution_count": 23,
     "metadata": {},
     "output_type": "execute_result"
    }
   ],
   "source": [
    "#show new table.\n",
    "bar_evict"
   ]
  },
  {
   "cell_type": "code",
   "execution_count": 24,
   "metadata": {},
   "outputs": [],
   "source": [
    "#create a list of the columns I want.\n",
    "desired_columns = [\n",
    " '13_Mor_Evict',\n",
    " '13_Rent_Evict',\n",
    " '13_Other',\n",
    " '14_Mor_Evict',\n",
    " '14_Rent_Evict',\n",
    " '14_Other',\n",
    " '15_Mor_Evict',\n",
    " '15_Rent_Evict',\n",
    " '15_Other',\n",
    " '16_Mor_Evict',\n",
    " '16_Rent_Evict',\n",
    " '16_Other',\n",
    " '17_Mor_Evict',\n",
    " '17_Rent_Evict',\n",
    " '17_Other',\n",
    " '18_Mor_Evict',\n",
    " '18_Rent_Evict',\n",
    " '18_Other',\n",
    " '19_Mor_Evict',\n",
    " '19_Rent_Evict',\n",
    " '19_Other']"
   ]
  },
  {
   "cell_type": "code",
   "execution_count": 25,
   "metadata": {},
   "outputs": [],
   "source": [
    "#create a trimmed dataframe only with info needed\n",
    "bar_evict_trimmed = bar_evict[desired_columns].copy()"
   ]
  },
  {
   "cell_type": "code",
   "execution_count": 26,
   "metadata": {},
   "outputs": [
    {
     "data": {
      "text/html": [
       "<div>\n",
       "<style scoped>\n",
       "    .dataframe tbody tr th:only-of-type {\n",
       "        vertical-align: middle;\n",
       "    }\n",
       "\n",
       "    .dataframe tbody tr th {\n",
       "        vertical-align: top;\n",
       "    }\n",
       "\n",
       "    .dataframe thead th {\n",
       "        text-align: right;\n",
       "    }\n",
       "</style>\n",
       "<table border=\"1\" class=\"dataframe\">\n",
       "  <thead>\n",
       "    <tr style=\"text-align: right;\">\n",
       "      <th></th>\n",
       "      <th>13_Mor_Evict</th>\n",
       "      <th>13_Rent_Evict</th>\n",
       "      <th>13_Other</th>\n",
       "      <th>14_Mor_Evict</th>\n",
       "      <th>14_Rent_Evict</th>\n",
       "      <th>14_Other</th>\n",
       "      <th>15_Mor_Evict</th>\n",
       "      <th>15_Rent_Evict</th>\n",
       "      <th>15_Other</th>\n",
       "      <th>16_Mor_Evict</th>\n",
       "      <th>...</th>\n",
       "      <th>16_Other</th>\n",
       "      <th>17_Mor_Evict</th>\n",
       "      <th>17_Rent_Evict</th>\n",
       "      <th>17_Other</th>\n",
       "      <th>18_Mor_Evict</th>\n",
       "      <th>18_Rent_Evict</th>\n",
       "      <th>18_Other</th>\n",
       "      <th>19_Mor_Evict</th>\n",
       "      <th>19_Rent_Evict</th>\n",
       "      <th>19_Other</th>\n",
       "    </tr>\n",
       "  </thead>\n",
       "  <tbody>\n",
       "    <tr>\n",
       "      <th>8</th>\n",
       "      <td>2329</td>\n",
       "      <td>8127</td>\n",
       "      <td>645</td>\n",
       "      <td>2678</td>\n",
       "      <td>7528</td>\n",
       "      <td>569</td>\n",
       "      <td>2690</td>\n",
       "      <td>7251</td>\n",
       "      <td>453</td>\n",
       "      <td>2330</td>\n",
       "      <td>...</td>\n",
       "      <td>472</td>\n",
       "      <td>2043</td>\n",
       "      <td>6201</td>\n",
       "      <td>707</td>\n",
       "      <td>2012</td>\n",
       "      <td>6100</td>\n",
       "      <td>1019</td>\n",
       "      <td>1518</td>\n",
       "      <td>5848</td>\n",
       "      <td>1058</td>\n",
       "    </tr>\n",
       "  </tbody>\n",
       "</table>\n",
       "<p>1 rows × 21 columns</p>\n",
       "</div>"
      ],
      "text/plain": [
       "   13_Mor_Evict  13_Rent_Evict  13_Other  14_Mor_Evict  14_Rent_Evict  \\\n",
       "8          2329           8127       645          2678           7528   \n",
       "\n",
       "   14_Other  15_Mor_Evict  15_Rent_Evict  15_Other  16_Mor_Evict  ...  \\\n",
       "8       569          2690           7251       453          2330  ...   \n",
       "\n",
       "   16_Other  17_Mor_Evict  17_Rent_Evict  17_Other  18_Mor_Evict  \\\n",
       "8       472          2043           6201       707          2012   \n",
       "\n",
       "   18_Rent_Evict  18_Other  19_Mor_Evict  19_Rent_Evict  19_Other  \n",
       "8           6100      1019          1518           5848      1058  \n",
       "\n",
       "[1 rows x 21 columns]"
      ]
     },
     "execution_count": 26,
     "metadata": {},
     "output_type": "execute_result"
    }
   ],
   "source": [
    "#show new df\n",
    "bar_evict_trimmed.head()"
   ]
  },
  {
   "cell_type": "markdown",
   "metadata": {},
   "source": [
    "Here, I'm creating a whole new dataframe based on the information I need to get this chart in the format I want. (Practice in creating a dataframe, right?) So, I have three lists: the year (which will be the index), the new name of the data titles without the year (which will allow the groupby function), and the values. "
   ]
  },
  {
   "cell_type": "code",
   "execution_count": 27,
   "metadata": {},
   "outputs": [],
   "source": [
    "#create list of values - will be third column\n",
    "bar_values = [\n",
    "  '2329',\n",
    "  '8127',\n",
    "  '645',\n",
    "  '2678',\n",
    "  '7528',\n",
    "  '569',\n",
    "  '2690',\n",
    "  '7251',\n",
    " '453',\n",
    "  '2330',\n",
    "  '6710',\n",
    "  '472',\n",
    "  '2043',\n",
    "  '6201',\n",
    "  '707',\n",
    "  '2012',\n",
    "  '6100',\n",
    "  '1019',\n",
    "  '1518',\n",
    "  '5848',\n",
    "  '1058']"
   ]
  },
  {
   "cell_type": "code",
   "execution_count": 28,
   "metadata": {},
   "outputs": [],
   "source": [
    "#create list of type of evictions - will be column 2\n",
    "evict_type = ['Mortgage Evictions',\n",
    " 'Rental Evictions',\n",
    " 'Other',\n",
    " 'Mortgage Evictions',\n",
    " 'Rental Evictions',\n",
    " 'Other',\n",
    " 'Mortgage Evictions',\n",
    " 'Rental Evictions',\n",
    " 'Other',\n",
    " 'Mortgage Evictions',\n",
    " 'Rental Evictions',\n",
    " 'Other',\n",
    " 'Mortgage Evictions',\n",
    " 'Rental Evictions',\n",
    " 'Other',\n",
    " 'Mortgage Evictions',\n",
    " 'Rental Evictions',\n",
    " 'Other',\n",
    " 'Mortgage Evictions',\n",
    " 'Rental Evictions',\n",
    " 'Other']"
   ]
  },
  {
   "cell_type": "code",
   "execution_count": 29,
   "metadata": {},
   "outputs": [],
   "source": [
    "#create list of values to pass to new column - will be column 1 and index\n",
    "list_years = [\"2013\",\"2013\", \"2013\", \"2014\", \"2014\", \"2014\", \"2015\",\"2015\", \"2015\", \\\n",
    "              \"2016\",\"2016\", \"2016\", \"2017\", \"2017\", \"2017\", \"2018\",\"2018\", \"2018\", \\\n",
    "              \"2019\",\"2019\", \"2019\"]\n"
   ]
  },
  {
   "cell_type": "code",
   "execution_count": 30,
   "metadata": {},
   "outputs": [],
   "source": [
    "#create empty dataframe\n",
    "nbedf = pd.DataFrame()"
   ]
  },
  {
   "cell_type": "code",
   "execution_count": 31,
   "metadata": {},
   "outputs": [],
   "source": [
    "#pass in the first column\n",
    "nbedf['Year']  = list_years"
   ]
  },
  {
   "cell_type": "code",
   "execution_count": 32,
   "metadata": {},
   "outputs": [],
   "source": [
    "#pass in second column\n",
    "nbedf['Type of Eviction']  = evict_type"
   ]
  },
  {
   "cell_type": "code",
   "execution_count": 33,
   "metadata": {},
   "outputs": [],
   "source": [
    "#pass in third column & hope it works\n",
    "nbedf['Number of Evictions']  = bar_values"
   ]
  },
  {
   "cell_type": "markdown",
   "metadata": {},
   "source": [
    "I now have a new dataframe! I need to check the data type to make sure the numbers are integers."
   ]
  },
  {
   "cell_type": "code",
   "execution_count": 34,
   "metadata": {
    "scrolled": true
   },
   "outputs": [
    {
     "name": "stdout",
     "output_type": "stream",
     "text": [
      "<class 'pandas.core.frame.DataFrame'>\n",
      "RangeIndex: 21 entries, 0 to 20\n",
      "Data columns (total 3 columns):\n",
      " #   Column               Non-Null Count  Dtype \n",
      "---  ------               --------------  ----- \n",
      " 0   Year                 21 non-null     object\n",
      " 1   Type of Eviction     21 non-null     object\n",
      " 2   Number of Evictions  21 non-null     object\n",
      "dtypes: object(3)\n",
      "memory usage: 632.0+ bytes\n"
     ]
    }
   ],
   "source": [
    "#check the data type\n",
    "nbedf.info()"
   ]
  },
  {
   "cell_type": "code",
   "execution_count": 35,
   "metadata": {},
   "outputs": [],
   "source": [
    "#change type of number of evictions\n",
    "nbedf['Number of Evictions'] = nbedf['Number of Evictions'].astype(int)"
   ]
  },
  {
   "cell_type": "code",
   "execution_count": 36,
   "metadata": {},
   "outputs": [
    {
     "data": {
      "text/html": [
       "<div>\n",
       "<style scoped>\n",
       "    .dataframe tbody tr th:only-of-type {\n",
       "        vertical-align: middle;\n",
       "    }\n",
       "\n",
       "    .dataframe tbody tr th {\n",
       "        vertical-align: top;\n",
       "    }\n",
       "\n",
       "    .dataframe thead th {\n",
       "        text-align: right;\n",
       "    }\n",
       "</style>\n",
       "<table border=\"1\" class=\"dataframe\">\n",
       "  <thead>\n",
       "    <tr style=\"text-align: right;\">\n",
       "      <th></th>\n",
       "      <th></th>\n",
       "      <th>Number of Evictions</th>\n",
       "    </tr>\n",
       "    <tr>\n",
       "      <th>Year</th>\n",
       "      <th>Type of Eviction</th>\n",
       "      <th></th>\n",
       "    </tr>\n",
       "  </thead>\n",
       "  <tbody>\n",
       "    <tr>\n",
       "      <th rowspan=\"3\" valign=\"top\">2013</th>\n",
       "      <th>Mortgage Evictions</th>\n",
       "      <td>2329</td>\n",
       "    </tr>\n",
       "    <tr>\n",
       "      <th>Other</th>\n",
       "      <td>645</td>\n",
       "    </tr>\n",
       "    <tr>\n",
       "      <th>Rental Evictions</th>\n",
       "      <td>8127</td>\n",
       "    </tr>\n",
       "    <tr>\n",
       "      <th rowspan=\"2\" valign=\"top\">2014</th>\n",
       "      <th>Mortgage Evictions</th>\n",
       "      <td>2678</td>\n",
       "    </tr>\n",
       "    <tr>\n",
       "      <th>Other</th>\n",
       "      <td>569</td>\n",
       "    </tr>\n",
       "  </tbody>\n",
       "</table>\n",
       "</div>"
      ],
      "text/plain": [
       "                         Number of Evictions\n",
       "Year Type of Eviction                       \n",
       "2013 Mortgage Evictions                 2329\n",
       "     Other                               645\n",
       "     Rental Evictions                   8127\n",
       "2014 Mortgage Evictions                 2678\n",
       "     Other                               569"
      ]
     },
     "execution_count": 36,
     "metadata": {},
     "output_type": "execute_result"
    }
   ],
   "source": [
    "#group by the year, sum the number of evictions\n",
    "bedf_grouped=nbedf.groupby(['Year','Type of Eviction']).sum()[['Number of Evictions']]\n",
    "bedf_grouped.head()"
   ]
  },
  {
   "cell_type": "markdown",
   "metadata": {},
   "source": [
    "Now I have a group of the type of evictions, and the number of evictions with seemingly two indexes. This flattening code below is where it seems like I could have fixed my index problems.\n",
    "\n",
    "This is the code I was using to swap the axes:\n",
    "\n",
    "barcelona_evict = bar_evict_trimmed.swapaxes(\"index\", \"columns\", copy=True)"
   ]
  },
  {
   "cell_type": "code",
   "execution_count": 37,
   "metadata": {},
   "outputs": [
    {
     "data": {
      "text/html": [
       "<div>\n",
       "<style scoped>\n",
       "    .dataframe tbody tr th:only-of-type {\n",
       "        vertical-align: middle;\n",
       "    }\n",
       "\n",
       "    .dataframe tbody tr th {\n",
       "        vertical-align: top;\n",
       "    }\n",
       "\n",
       "    .dataframe thead th {\n",
       "        text-align: right;\n",
       "    }\n",
       "</style>\n",
       "<table border=\"1\" class=\"dataframe\">\n",
       "  <thead>\n",
       "    <tr style=\"text-align: right;\">\n",
       "      <th></th>\n",
       "      <th>Year</th>\n",
       "      <th>Type of Eviction</th>\n",
       "      <th>Number of Evictions</th>\n",
       "    </tr>\n",
       "  </thead>\n",
       "  <tbody>\n",
       "    <tr>\n",
       "      <th>0</th>\n",
       "      <td>2013</td>\n",
       "      <td>Mortgage Evictions</td>\n",
       "      <td>2329</td>\n",
       "    </tr>\n",
       "    <tr>\n",
       "      <th>1</th>\n",
       "      <td>2013</td>\n",
       "      <td>Other</td>\n",
       "      <td>645</td>\n",
       "    </tr>\n",
       "    <tr>\n",
       "      <th>2</th>\n",
       "      <td>2013</td>\n",
       "      <td>Rental Evictions</td>\n",
       "      <td>8127</td>\n",
       "    </tr>\n",
       "    <tr>\n",
       "      <th>3</th>\n",
       "      <td>2014</td>\n",
       "      <td>Mortgage Evictions</td>\n",
       "      <td>2678</td>\n",
       "    </tr>\n",
       "    <tr>\n",
       "      <th>4</th>\n",
       "      <td>2014</td>\n",
       "      <td>Other</td>\n",
       "      <td>569</td>\n",
       "    </tr>\n",
       "  </tbody>\n",
       "</table>\n",
       "</div>"
      ],
      "text/plain": [
       "   Year    Type of Eviction  Number of Evictions\n",
       "0  2013  Mortgage Evictions                 2329\n",
       "1  2013               Other                  645\n",
       "2  2013    Rental Evictions                 8127\n",
       "3  2014  Mortgage Evictions                 2678\n",
       "4  2014               Other                  569"
      ]
     },
     "execution_count": 37,
     "metadata": {},
     "output_type": "execute_result"
    }
   ],
   "source": [
    "# flatten the multi-index, multi-level dataframe\n",
    "bedf_flat = bedf_grouped.reset_index()\n",
    "bedf_flat.head()"
   ]
  },
  {
   "cell_type": "code",
   "execution_count": 42,
   "metadata": {},
   "outputs": [
    {
     "data": {
      "application/vnd.plotly.v1+json": {
       "config": {
        "plotlyServerURL": "https://plot.ly"
       },
       "data": [
        {
         "alignmentgroup": "True",
         "hovertemplate": "Type of Eviction=Mortgage Evictions<br>Year=%{x}<br>Number of Evictions=%{y}<extra></extra>",
         "legendgroup": "Mortgage Evictions",
         "marker": {
          "color": "#636efa"
         },
         "name": "Mortgage Evictions",
         "offsetgroup": "Mortgage Evictions",
         "orientation": "v",
         "showlegend": true,
         "textposition": "auto",
         "type": "bar",
         "x": [
          "2013",
          "2014",
          "2015",
          "2016",
          "2017",
          "2018",
          "2019"
         ],
         "xaxis": "x",
         "y": [
          2329,
          2678,
          2690,
          2330,
          2043,
          2012,
          1518
         ],
         "yaxis": "y"
        },
        {
         "alignmentgroup": "True",
         "hovertemplate": "Type of Eviction=Other<br>Year=%{x}<br>Number of Evictions=%{y}<extra></extra>",
         "legendgroup": "Other",
         "marker": {
          "color": "#EF553B"
         },
         "name": "Other",
         "offsetgroup": "Other",
         "orientation": "v",
         "showlegend": true,
         "textposition": "auto",
         "type": "bar",
         "x": [
          "2013",
          "2014",
          "2015",
          "2016",
          "2017",
          "2018",
          "2019"
         ],
         "xaxis": "x",
         "y": [
          645,
          569,
          453,
          472,
          707,
          1019,
          1058
         ],
         "yaxis": "y"
        },
        {
         "alignmentgroup": "True",
         "hovertemplate": "Type of Eviction=Rental Evictions<br>Year=%{x}<br>Number of Evictions=%{y}<extra></extra>",
         "legendgroup": "Rental Evictions",
         "marker": {
          "color": "#00cc96"
         },
         "name": "Rental Evictions",
         "offsetgroup": "Rental Evictions",
         "orientation": "v",
         "showlegend": true,
         "textposition": "auto",
         "type": "bar",
         "x": [
          "2013",
          "2014",
          "2015",
          "2016",
          "2017",
          "2018",
          "2019"
         ],
         "xaxis": "x",
         "y": [
          8127,
          7528,
          7251,
          6710,
          6201,
          6100,
          5848
         ],
         "yaxis": "y"
        }
       ],
       "layout": {
        "barmode": "relative",
        "legend": {
         "title": {
          "text": "Type of Eviction"
         },
         "tracegroupgap": 0
        },
        "margin": {
         "t": 60
        },
        "template": {
         "data": {
          "bar": [
           {
            "error_x": {
             "color": "#2a3f5f"
            },
            "error_y": {
             "color": "#2a3f5f"
            },
            "marker": {
             "line": {
              "color": "#E5ECF6",
              "width": 0.5
             }
            },
            "type": "bar"
           }
          ],
          "barpolar": [
           {
            "marker": {
             "line": {
              "color": "#E5ECF6",
              "width": 0.5
             }
            },
            "type": "barpolar"
           }
          ],
          "carpet": [
           {
            "aaxis": {
             "endlinecolor": "#2a3f5f",
             "gridcolor": "white",
             "linecolor": "white",
             "minorgridcolor": "white",
             "startlinecolor": "#2a3f5f"
            },
            "baxis": {
             "endlinecolor": "#2a3f5f",
             "gridcolor": "white",
             "linecolor": "white",
             "minorgridcolor": "white",
             "startlinecolor": "#2a3f5f"
            },
            "type": "carpet"
           }
          ],
          "choropleth": [
           {
            "colorbar": {
             "outlinewidth": 0,
             "ticks": ""
            },
            "type": "choropleth"
           }
          ],
          "contour": [
           {
            "colorbar": {
             "outlinewidth": 0,
             "ticks": ""
            },
            "colorscale": [
             [
              0,
              "#0d0887"
             ],
             [
              0.1111111111111111,
              "#46039f"
             ],
             [
              0.2222222222222222,
              "#7201a8"
             ],
             [
              0.3333333333333333,
              "#9c179e"
             ],
             [
              0.4444444444444444,
              "#bd3786"
             ],
             [
              0.5555555555555556,
              "#d8576b"
             ],
             [
              0.6666666666666666,
              "#ed7953"
             ],
             [
              0.7777777777777778,
              "#fb9f3a"
             ],
             [
              0.8888888888888888,
              "#fdca26"
             ],
             [
              1,
              "#f0f921"
             ]
            ],
            "type": "contour"
           }
          ],
          "contourcarpet": [
           {
            "colorbar": {
             "outlinewidth": 0,
             "ticks": ""
            },
            "type": "contourcarpet"
           }
          ],
          "heatmap": [
           {
            "colorbar": {
             "outlinewidth": 0,
             "ticks": ""
            },
            "colorscale": [
             [
              0,
              "#0d0887"
             ],
             [
              0.1111111111111111,
              "#46039f"
             ],
             [
              0.2222222222222222,
              "#7201a8"
             ],
             [
              0.3333333333333333,
              "#9c179e"
             ],
             [
              0.4444444444444444,
              "#bd3786"
             ],
             [
              0.5555555555555556,
              "#d8576b"
             ],
             [
              0.6666666666666666,
              "#ed7953"
             ],
             [
              0.7777777777777778,
              "#fb9f3a"
             ],
             [
              0.8888888888888888,
              "#fdca26"
             ],
             [
              1,
              "#f0f921"
             ]
            ],
            "type": "heatmap"
           }
          ],
          "heatmapgl": [
           {
            "colorbar": {
             "outlinewidth": 0,
             "ticks": ""
            },
            "colorscale": [
             [
              0,
              "#0d0887"
             ],
             [
              0.1111111111111111,
              "#46039f"
             ],
             [
              0.2222222222222222,
              "#7201a8"
             ],
             [
              0.3333333333333333,
              "#9c179e"
             ],
             [
              0.4444444444444444,
              "#bd3786"
             ],
             [
              0.5555555555555556,
              "#d8576b"
             ],
             [
              0.6666666666666666,
              "#ed7953"
             ],
             [
              0.7777777777777778,
              "#fb9f3a"
             ],
             [
              0.8888888888888888,
              "#fdca26"
             ],
             [
              1,
              "#f0f921"
             ]
            ],
            "type": "heatmapgl"
           }
          ],
          "histogram": [
           {
            "marker": {
             "colorbar": {
              "outlinewidth": 0,
              "ticks": ""
             }
            },
            "type": "histogram"
           }
          ],
          "histogram2d": [
           {
            "colorbar": {
             "outlinewidth": 0,
             "ticks": ""
            },
            "colorscale": [
             [
              0,
              "#0d0887"
             ],
             [
              0.1111111111111111,
              "#46039f"
             ],
             [
              0.2222222222222222,
              "#7201a8"
             ],
             [
              0.3333333333333333,
              "#9c179e"
             ],
             [
              0.4444444444444444,
              "#bd3786"
             ],
             [
              0.5555555555555556,
              "#d8576b"
             ],
             [
              0.6666666666666666,
              "#ed7953"
             ],
             [
              0.7777777777777778,
              "#fb9f3a"
             ],
             [
              0.8888888888888888,
              "#fdca26"
             ],
             [
              1,
              "#f0f921"
             ]
            ],
            "type": "histogram2d"
           }
          ],
          "histogram2dcontour": [
           {
            "colorbar": {
             "outlinewidth": 0,
             "ticks": ""
            },
            "colorscale": [
             [
              0,
              "#0d0887"
             ],
             [
              0.1111111111111111,
              "#46039f"
             ],
             [
              0.2222222222222222,
              "#7201a8"
             ],
             [
              0.3333333333333333,
              "#9c179e"
             ],
             [
              0.4444444444444444,
              "#bd3786"
             ],
             [
              0.5555555555555556,
              "#d8576b"
             ],
             [
              0.6666666666666666,
              "#ed7953"
             ],
             [
              0.7777777777777778,
              "#fb9f3a"
             ],
             [
              0.8888888888888888,
              "#fdca26"
             ],
             [
              1,
              "#f0f921"
             ]
            ],
            "type": "histogram2dcontour"
           }
          ],
          "mesh3d": [
           {
            "colorbar": {
             "outlinewidth": 0,
             "ticks": ""
            },
            "type": "mesh3d"
           }
          ],
          "parcoords": [
           {
            "line": {
             "colorbar": {
              "outlinewidth": 0,
              "ticks": ""
             }
            },
            "type": "parcoords"
           }
          ],
          "pie": [
           {
            "automargin": true,
            "type": "pie"
           }
          ],
          "scatter": [
           {
            "marker": {
             "colorbar": {
              "outlinewidth": 0,
              "ticks": ""
             }
            },
            "type": "scatter"
           }
          ],
          "scatter3d": [
           {
            "line": {
             "colorbar": {
              "outlinewidth": 0,
              "ticks": ""
             }
            },
            "marker": {
             "colorbar": {
              "outlinewidth": 0,
              "ticks": ""
             }
            },
            "type": "scatter3d"
           }
          ],
          "scattercarpet": [
           {
            "marker": {
             "colorbar": {
              "outlinewidth": 0,
              "ticks": ""
             }
            },
            "type": "scattercarpet"
           }
          ],
          "scattergeo": [
           {
            "marker": {
             "colorbar": {
              "outlinewidth": 0,
              "ticks": ""
             }
            },
            "type": "scattergeo"
           }
          ],
          "scattergl": [
           {
            "marker": {
             "colorbar": {
              "outlinewidth": 0,
              "ticks": ""
             }
            },
            "type": "scattergl"
           }
          ],
          "scattermapbox": [
           {
            "marker": {
             "colorbar": {
              "outlinewidth": 0,
              "ticks": ""
             }
            },
            "type": "scattermapbox"
           }
          ],
          "scatterpolar": [
           {
            "marker": {
             "colorbar": {
              "outlinewidth": 0,
              "ticks": ""
             }
            },
            "type": "scatterpolar"
           }
          ],
          "scatterpolargl": [
           {
            "marker": {
             "colorbar": {
              "outlinewidth": 0,
              "ticks": ""
             }
            },
            "type": "scatterpolargl"
           }
          ],
          "scatterternary": [
           {
            "marker": {
             "colorbar": {
              "outlinewidth": 0,
              "ticks": ""
             }
            },
            "type": "scatterternary"
           }
          ],
          "surface": [
           {
            "colorbar": {
             "outlinewidth": 0,
             "ticks": ""
            },
            "colorscale": [
             [
              0,
              "#0d0887"
             ],
             [
              0.1111111111111111,
              "#46039f"
             ],
             [
              0.2222222222222222,
              "#7201a8"
             ],
             [
              0.3333333333333333,
              "#9c179e"
             ],
             [
              0.4444444444444444,
              "#bd3786"
             ],
             [
              0.5555555555555556,
              "#d8576b"
             ],
             [
              0.6666666666666666,
              "#ed7953"
             ],
             [
              0.7777777777777778,
              "#fb9f3a"
             ],
             [
              0.8888888888888888,
              "#fdca26"
             ],
             [
              1,
              "#f0f921"
             ]
            ],
            "type": "surface"
           }
          ],
          "table": [
           {
            "cells": {
             "fill": {
              "color": "#EBF0F8"
             },
             "line": {
              "color": "white"
             }
            },
            "header": {
             "fill": {
              "color": "#C8D4E3"
             },
             "line": {
              "color": "white"
             }
            },
            "type": "table"
           }
          ]
         },
         "layout": {
          "annotationdefaults": {
           "arrowcolor": "#2a3f5f",
           "arrowhead": 0,
           "arrowwidth": 1
          },
          "coloraxis": {
           "colorbar": {
            "outlinewidth": 0,
            "ticks": ""
           }
          },
          "colorscale": {
           "diverging": [
            [
             0,
             "#8e0152"
            ],
            [
             0.1,
             "#c51b7d"
            ],
            [
             0.2,
             "#de77ae"
            ],
            [
             0.3,
             "#f1b6da"
            ],
            [
             0.4,
             "#fde0ef"
            ],
            [
             0.5,
             "#f7f7f7"
            ],
            [
             0.6,
             "#e6f5d0"
            ],
            [
             0.7,
             "#b8e186"
            ],
            [
             0.8,
             "#7fbc41"
            ],
            [
             0.9,
             "#4d9221"
            ],
            [
             1,
             "#276419"
            ]
           ],
           "sequential": [
            [
             0,
             "#0d0887"
            ],
            [
             0.1111111111111111,
             "#46039f"
            ],
            [
             0.2222222222222222,
             "#7201a8"
            ],
            [
             0.3333333333333333,
             "#9c179e"
            ],
            [
             0.4444444444444444,
             "#bd3786"
            ],
            [
             0.5555555555555556,
             "#d8576b"
            ],
            [
             0.6666666666666666,
             "#ed7953"
            ],
            [
             0.7777777777777778,
             "#fb9f3a"
            ],
            [
             0.8888888888888888,
             "#fdca26"
            ],
            [
             1,
             "#f0f921"
            ]
           ],
           "sequentialminus": [
            [
             0,
             "#0d0887"
            ],
            [
             0.1111111111111111,
             "#46039f"
            ],
            [
             0.2222222222222222,
             "#7201a8"
            ],
            [
             0.3333333333333333,
             "#9c179e"
            ],
            [
             0.4444444444444444,
             "#bd3786"
            ],
            [
             0.5555555555555556,
             "#d8576b"
            ],
            [
             0.6666666666666666,
             "#ed7953"
            ],
            [
             0.7777777777777778,
             "#fb9f3a"
            ],
            [
             0.8888888888888888,
             "#fdca26"
            ],
            [
             1,
             "#f0f921"
            ]
           ]
          },
          "colorway": [
           "#636efa",
           "#EF553B",
           "#00cc96",
           "#ab63fa",
           "#FFA15A",
           "#19d3f3",
           "#FF6692",
           "#B6E880",
           "#FF97FF",
           "#FECB52"
          ],
          "font": {
           "color": "#2a3f5f"
          },
          "geo": {
           "bgcolor": "white",
           "lakecolor": "white",
           "landcolor": "#E5ECF6",
           "showlakes": true,
           "showland": true,
           "subunitcolor": "white"
          },
          "hoverlabel": {
           "align": "left"
          },
          "hovermode": "closest",
          "mapbox": {
           "style": "light"
          },
          "paper_bgcolor": "white",
          "plot_bgcolor": "#E5ECF6",
          "polar": {
           "angularaxis": {
            "gridcolor": "white",
            "linecolor": "white",
            "ticks": ""
           },
           "bgcolor": "#E5ECF6",
           "radialaxis": {
            "gridcolor": "white",
            "linecolor": "white",
            "ticks": ""
           }
          },
          "scene": {
           "xaxis": {
            "backgroundcolor": "#E5ECF6",
            "gridcolor": "white",
            "gridwidth": 2,
            "linecolor": "white",
            "showbackground": true,
            "ticks": "",
            "zerolinecolor": "white"
           },
           "yaxis": {
            "backgroundcolor": "#E5ECF6",
            "gridcolor": "white",
            "gridwidth": 2,
            "linecolor": "white",
            "showbackground": true,
            "ticks": "",
            "zerolinecolor": "white"
           },
           "zaxis": {
            "backgroundcolor": "#E5ECF6",
            "gridcolor": "white",
            "gridwidth": 2,
            "linecolor": "white",
            "showbackground": true,
            "ticks": "",
            "zerolinecolor": "white"
           }
          },
          "shapedefaults": {
           "line": {
            "color": "#2a3f5f"
           }
          },
          "ternary": {
           "aaxis": {
            "gridcolor": "white",
            "linecolor": "white",
            "ticks": ""
           },
           "baxis": {
            "gridcolor": "white",
            "linecolor": "white",
            "ticks": ""
           },
           "bgcolor": "#E5ECF6",
           "caxis": {
            "gridcolor": "white",
            "linecolor": "white",
            "ticks": ""
           }
          },
          "title": {
           "x": 0.05
          },
          "xaxis": {
           "automargin": true,
           "gridcolor": "white",
           "linecolor": "white",
           "ticks": "",
           "title": {
            "standoff": 15
           },
           "zerolinecolor": "white",
           "zerolinewidth": 2
          },
          "yaxis": {
           "automargin": true,
           "gridcolor": "white",
           "linecolor": "white",
           "ticks": "",
           "title": {
            "standoff": 15
           },
           "zerolinecolor": "white",
           "zerolinewidth": 2
          }
         }
        },
        "xaxis": {
         "anchor": "y",
         "domain": [
          0,
          1
         ],
         "title": {
          "text": "Year"
         }
        },
        "yaxis": {
         "anchor": "x",
         "domain": [
          0,
          1
         ],
         "title": {
          "text": "Number of Evictions"
         }
        }
       }
      },
      "text/html": [
       "<div>                            <div id=\"4a4c2c53-8cac-4b52-946b-8e3f4f2f17d2\" class=\"plotly-graph-div\" style=\"height:525px; width:100%;\"></div>            <script type=\"text/javascript\">                require([\"plotly\"], function(Plotly) {                    window.PLOTLYENV=window.PLOTLYENV || {};                                    if (document.getElementById(\"4a4c2c53-8cac-4b52-946b-8e3f4f2f17d2\")) {                    Plotly.newPlot(                        \"4a4c2c53-8cac-4b52-946b-8e3f4f2f17d2\",                        [{\"alignmentgroup\": \"True\", \"hovertemplate\": \"Type of Eviction=Mortgage Evictions<br>Year=%{x}<br>Number of Evictions=%{y}<extra></extra>\", \"legendgroup\": \"Mortgage Evictions\", \"marker\": {\"color\": \"#636efa\"}, \"name\": \"Mortgage Evictions\", \"offsetgroup\": \"Mortgage Evictions\", \"orientation\": \"v\", \"showlegend\": true, \"textposition\": \"auto\", \"type\": \"bar\", \"x\": [\"2013\", \"2014\", \"2015\", \"2016\", \"2017\", \"2018\", \"2019\"], \"xaxis\": \"x\", \"y\": [2329, 2678, 2690, 2330, 2043, 2012, 1518], \"yaxis\": \"y\"}, {\"alignmentgroup\": \"True\", \"hovertemplate\": \"Type of Eviction=Other<br>Year=%{x}<br>Number of Evictions=%{y}<extra></extra>\", \"legendgroup\": \"Other\", \"marker\": {\"color\": \"#EF553B\"}, \"name\": \"Other\", \"offsetgroup\": \"Other\", \"orientation\": \"v\", \"showlegend\": true, \"textposition\": \"auto\", \"type\": \"bar\", \"x\": [\"2013\", \"2014\", \"2015\", \"2016\", \"2017\", \"2018\", \"2019\"], \"xaxis\": \"x\", \"y\": [645, 569, 453, 472, 707, 1019, 1058], \"yaxis\": \"y\"}, {\"alignmentgroup\": \"True\", \"hovertemplate\": \"Type of Eviction=Rental Evictions<br>Year=%{x}<br>Number of Evictions=%{y}<extra></extra>\", \"legendgroup\": \"Rental Evictions\", \"marker\": {\"color\": \"#00cc96\"}, \"name\": \"Rental Evictions\", \"offsetgroup\": \"Rental Evictions\", \"orientation\": \"v\", \"showlegend\": true, \"textposition\": \"auto\", \"type\": \"bar\", \"x\": [\"2013\", \"2014\", \"2015\", \"2016\", \"2017\", \"2018\", \"2019\"], \"xaxis\": \"x\", \"y\": [8127, 7528, 7251, 6710, 6201, 6100, 5848], \"yaxis\": \"y\"}],                        {\"barmode\": \"relative\", \"legend\": {\"title\": {\"text\": \"Type of Eviction\"}, \"tracegroupgap\": 0}, \"margin\": {\"t\": 60}, \"template\": {\"data\": {\"bar\": [{\"error_x\": {\"color\": \"#2a3f5f\"}, \"error_y\": {\"color\": \"#2a3f5f\"}, \"marker\": {\"line\": {\"color\": \"#E5ECF6\", \"width\": 0.5}}, \"type\": \"bar\"}], \"barpolar\": [{\"marker\": {\"line\": {\"color\": \"#E5ECF6\", \"width\": 0.5}}, \"type\": \"barpolar\"}], \"carpet\": [{\"aaxis\": {\"endlinecolor\": \"#2a3f5f\", \"gridcolor\": \"white\", \"linecolor\": \"white\", \"minorgridcolor\": \"white\", \"startlinecolor\": \"#2a3f5f\"}, \"baxis\": {\"endlinecolor\": \"#2a3f5f\", \"gridcolor\": \"white\", \"linecolor\": \"white\", \"minorgridcolor\": \"white\", \"startlinecolor\": \"#2a3f5f\"}, \"type\": \"carpet\"}], \"choropleth\": [{\"colorbar\": {\"outlinewidth\": 0, \"ticks\": \"\"}, \"type\": \"choropleth\"}], \"contour\": [{\"colorbar\": {\"outlinewidth\": 0, \"ticks\": \"\"}, \"colorscale\": [[0.0, \"#0d0887\"], [0.1111111111111111, \"#46039f\"], [0.2222222222222222, \"#7201a8\"], [0.3333333333333333, \"#9c179e\"], [0.4444444444444444, \"#bd3786\"], [0.5555555555555556, \"#d8576b\"], [0.6666666666666666, \"#ed7953\"], [0.7777777777777778, \"#fb9f3a\"], [0.8888888888888888, \"#fdca26\"], [1.0, \"#f0f921\"]], \"type\": \"contour\"}], \"contourcarpet\": [{\"colorbar\": {\"outlinewidth\": 0, \"ticks\": \"\"}, \"type\": \"contourcarpet\"}], \"heatmap\": [{\"colorbar\": {\"outlinewidth\": 0, \"ticks\": \"\"}, \"colorscale\": [[0.0, \"#0d0887\"], [0.1111111111111111, \"#46039f\"], [0.2222222222222222, \"#7201a8\"], [0.3333333333333333, \"#9c179e\"], [0.4444444444444444, \"#bd3786\"], [0.5555555555555556, \"#d8576b\"], [0.6666666666666666, \"#ed7953\"], [0.7777777777777778, \"#fb9f3a\"], [0.8888888888888888, \"#fdca26\"], [1.0, \"#f0f921\"]], \"type\": \"heatmap\"}], \"heatmapgl\": [{\"colorbar\": {\"outlinewidth\": 0, \"ticks\": \"\"}, \"colorscale\": [[0.0, \"#0d0887\"], [0.1111111111111111, \"#46039f\"], [0.2222222222222222, \"#7201a8\"], [0.3333333333333333, \"#9c179e\"], [0.4444444444444444, \"#bd3786\"], [0.5555555555555556, \"#d8576b\"], [0.6666666666666666, \"#ed7953\"], [0.7777777777777778, \"#fb9f3a\"], [0.8888888888888888, \"#fdca26\"], [1.0, \"#f0f921\"]], \"type\": \"heatmapgl\"}], \"histogram\": [{\"marker\": {\"colorbar\": {\"outlinewidth\": 0, \"ticks\": \"\"}}, \"type\": \"histogram\"}], \"histogram2d\": [{\"colorbar\": {\"outlinewidth\": 0, \"ticks\": \"\"}, \"colorscale\": [[0.0, \"#0d0887\"], [0.1111111111111111, \"#46039f\"], [0.2222222222222222, \"#7201a8\"], [0.3333333333333333, \"#9c179e\"], [0.4444444444444444, \"#bd3786\"], [0.5555555555555556, \"#d8576b\"], [0.6666666666666666, \"#ed7953\"], [0.7777777777777778, \"#fb9f3a\"], [0.8888888888888888, \"#fdca26\"], [1.0, \"#f0f921\"]], \"type\": \"histogram2d\"}], \"histogram2dcontour\": [{\"colorbar\": {\"outlinewidth\": 0, \"ticks\": \"\"}, \"colorscale\": [[0.0, \"#0d0887\"], [0.1111111111111111, \"#46039f\"], [0.2222222222222222, \"#7201a8\"], [0.3333333333333333, \"#9c179e\"], [0.4444444444444444, \"#bd3786\"], [0.5555555555555556, \"#d8576b\"], [0.6666666666666666, \"#ed7953\"], [0.7777777777777778, \"#fb9f3a\"], [0.8888888888888888, \"#fdca26\"], [1.0, \"#f0f921\"]], \"type\": \"histogram2dcontour\"}], \"mesh3d\": [{\"colorbar\": {\"outlinewidth\": 0, \"ticks\": \"\"}, \"type\": \"mesh3d\"}], \"parcoords\": [{\"line\": {\"colorbar\": {\"outlinewidth\": 0, \"ticks\": \"\"}}, \"type\": \"parcoords\"}], \"pie\": [{\"automargin\": true, \"type\": \"pie\"}], \"scatter\": [{\"marker\": {\"colorbar\": {\"outlinewidth\": 0, \"ticks\": \"\"}}, \"type\": \"scatter\"}], \"scatter3d\": [{\"line\": {\"colorbar\": {\"outlinewidth\": 0, \"ticks\": \"\"}}, \"marker\": {\"colorbar\": {\"outlinewidth\": 0, \"ticks\": \"\"}}, \"type\": \"scatter3d\"}], \"scattercarpet\": [{\"marker\": {\"colorbar\": {\"outlinewidth\": 0, \"ticks\": \"\"}}, \"type\": \"scattercarpet\"}], \"scattergeo\": [{\"marker\": {\"colorbar\": {\"outlinewidth\": 0, \"ticks\": \"\"}}, \"type\": \"scattergeo\"}], \"scattergl\": [{\"marker\": {\"colorbar\": {\"outlinewidth\": 0, \"ticks\": \"\"}}, \"type\": \"scattergl\"}], \"scattermapbox\": [{\"marker\": {\"colorbar\": {\"outlinewidth\": 0, \"ticks\": \"\"}}, \"type\": \"scattermapbox\"}], \"scatterpolar\": [{\"marker\": {\"colorbar\": {\"outlinewidth\": 0, \"ticks\": \"\"}}, \"type\": \"scatterpolar\"}], \"scatterpolargl\": [{\"marker\": {\"colorbar\": {\"outlinewidth\": 0, \"ticks\": \"\"}}, \"type\": \"scatterpolargl\"}], \"scatterternary\": [{\"marker\": {\"colorbar\": {\"outlinewidth\": 0, \"ticks\": \"\"}}, \"type\": \"scatterternary\"}], \"surface\": [{\"colorbar\": {\"outlinewidth\": 0, \"ticks\": \"\"}, \"colorscale\": [[0.0, \"#0d0887\"], [0.1111111111111111, \"#46039f\"], [0.2222222222222222, \"#7201a8\"], [0.3333333333333333, \"#9c179e\"], [0.4444444444444444, \"#bd3786\"], [0.5555555555555556, \"#d8576b\"], [0.6666666666666666, \"#ed7953\"], [0.7777777777777778, \"#fb9f3a\"], [0.8888888888888888, \"#fdca26\"], [1.0, \"#f0f921\"]], \"type\": \"surface\"}], \"table\": [{\"cells\": {\"fill\": {\"color\": \"#EBF0F8\"}, \"line\": {\"color\": \"white\"}}, \"header\": {\"fill\": {\"color\": \"#C8D4E3\"}, \"line\": {\"color\": \"white\"}}, \"type\": \"table\"}]}, \"layout\": {\"annotationdefaults\": {\"arrowcolor\": \"#2a3f5f\", \"arrowhead\": 0, \"arrowwidth\": 1}, \"coloraxis\": {\"colorbar\": {\"outlinewidth\": 0, \"ticks\": \"\"}}, \"colorscale\": {\"diverging\": [[0, \"#8e0152\"], [0.1, \"#c51b7d\"], [0.2, \"#de77ae\"], [0.3, \"#f1b6da\"], [0.4, \"#fde0ef\"], [0.5, \"#f7f7f7\"], [0.6, \"#e6f5d0\"], [0.7, \"#b8e186\"], [0.8, \"#7fbc41\"], [0.9, \"#4d9221\"], [1, \"#276419\"]], \"sequential\": [[0.0, \"#0d0887\"], [0.1111111111111111, \"#46039f\"], [0.2222222222222222, \"#7201a8\"], [0.3333333333333333, \"#9c179e\"], [0.4444444444444444, \"#bd3786\"], [0.5555555555555556, \"#d8576b\"], [0.6666666666666666, \"#ed7953\"], [0.7777777777777778, \"#fb9f3a\"], [0.8888888888888888, \"#fdca26\"], [1.0, \"#f0f921\"]], \"sequentialminus\": [[0.0, \"#0d0887\"], [0.1111111111111111, \"#46039f\"], [0.2222222222222222, \"#7201a8\"], [0.3333333333333333, \"#9c179e\"], [0.4444444444444444, \"#bd3786\"], [0.5555555555555556, \"#d8576b\"], [0.6666666666666666, \"#ed7953\"], [0.7777777777777778, \"#fb9f3a\"], [0.8888888888888888, \"#fdca26\"], [1.0, \"#f0f921\"]]}, \"colorway\": [\"#636efa\", \"#EF553B\", \"#00cc96\", \"#ab63fa\", \"#FFA15A\", \"#19d3f3\", \"#FF6692\", \"#B6E880\", \"#FF97FF\", \"#FECB52\"], \"font\": {\"color\": \"#2a3f5f\"}, \"geo\": {\"bgcolor\": \"white\", \"lakecolor\": \"white\", \"landcolor\": \"#E5ECF6\", \"showlakes\": true, \"showland\": true, \"subunitcolor\": \"white\"}, \"hoverlabel\": {\"align\": \"left\"}, \"hovermode\": \"closest\", \"mapbox\": {\"style\": \"light\"}, \"paper_bgcolor\": \"white\", \"plot_bgcolor\": \"#E5ECF6\", \"polar\": {\"angularaxis\": {\"gridcolor\": \"white\", \"linecolor\": \"white\", \"ticks\": \"\"}, \"bgcolor\": \"#E5ECF6\", \"radialaxis\": {\"gridcolor\": \"white\", \"linecolor\": \"white\", \"ticks\": \"\"}}, \"scene\": {\"xaxis\": {\"backgroundcolor\": \"#E5ECF6\", \"gridcolor\": \"white\", \"gridwidth\": 2, \"linecolor\": \"white\", \"showbackground\": true, \"ticks\": \"\", \"zerolinecolor\": \"white\"}, \"yaxis\": {\"backgroundcolor\": \"#E5ECF6\", \"gridcolor\": \"white\", \"gridwidth\": 2, \"linecolor\": \"white\", \"showbackground\": true, \"ticks\": \"\", \"zerolinecolor\": \"white\"}, \"zaxis\": {\"backgroundcolor\": \"#E5ECF6\", \"gridcolor\": \"white\", \"gridwidth\": 2, \"linecolor\": \"white\", \"showbackground\": true, \"ticks\": \"\", \"zerolinecolor\": \"white\"}}, \"shapedefaults\": {\"line\": {\"color\": \"#2a3f5f\"}}, \"ternary\": {\"aaxis\": {\"gridcolor\": \"white\", \"linecolor\": \"white\", \"ticks\": \"\"}, \"baxis\": {\"gridcolor\": \"white\", \"linecolor\": \"white\", \"ticks\": \"\"}, \"bgcolor\": \"#E5ECF6\", \"caxis\": {\"gridcolor\": \"white\", \"linecolor\": \"white\", \"ticks\": \"\"}}, \"title\": {\"x\": 0.05}, \"xaxis\": {\"automargin\": true, \"gridcolor\": \"white\", \"linecolor\": \"white\", \"ticks\": \"\", \"title\": {\"standoff\": 15}, \"zerolinecolor\": \"white\", \"zerolinewidth\": 2}, \"yaxis\": {\"automargin\": true, \"gridcolor\": \"white\", \"linecolor\": \"white\", \"ticks\": \"\", \"title\": {\"standoff\": 15}, \"zerolinecolor\": \"white\", \"zerolinewidth\": 2}}}, \"xaxis\": {\"anchor\": \"y\", \"domain\": [0.0, 1.0], \"title\": {\"text\": \"Year\"}}, \"yaxis\": {\"anchor\": \"x\", \"domain\": [0.0, 1.0], \"title\": {\"text\": \"Number of Evictions\"}}},                        {\"responsive\": true}                    ).then(function(){\n",
       "                            \n",
       "var gd = document.getElementById('4a4c2c53-8cac-4b52-946b-8e3f4f2f17d2');\n",
       "var x = new MutationObserver(function (mutations, observer) {{\n",
       "        var display = window.getComputedStyle(gd).display;\n",
       "        if (!display || display === 'none') {{\n",
       "            console.log([gd, 'removed!']);\n",
       "            Plotly.purge(gd);\n",
       "            observer.disconnect();\n",
       "        }}\n",
       "}});\n",
       "\n",
       "// Listen for the removal of the full notebook cells\n",
       "var notebookContainer = gd.closest('#notebook-container');\n",
       "if (notebookContainer) {{\n",
       "    x.observe(notebookContainer, {childList: true});\n",
       "}}\n",
       "\n",
       "// Listen for the clearing of the current output cell\n",
       "var outputEl = gd.closest('.output');\n",
       "if (outputEl) {{\n",
       "    x.observe(outputEl, {childList: true});\n",
       "}}\n",
       "\n",
       "                        })                };                });            </script>        </div>"
      ]
     },
     "metadata": {},
     "output_type": "display_data"
    }
   ],
   "source": [
    "# make a stacked bar chart\n",
    "stacked_evict = px.bar(bedf_flat,\n",
    "       x='Year',\n",
    "       y='Number of Evictions',\n",
    "       color='Type of Eviction' \n",
    "      )\n",
    "stacked_evict"
   ]
  },
  {
   "cell_type": "markdown",
   "metadata": {},
   "source": [
    "And there we have it!"
   ]
  },
  {
   "cell_type": "code",
   "execution_count": null,
   "metadata": {},
   "outputs": [],
   "source": []
  },
  {
   "cell_type": "code",
   "execution_count": null,
   "metadata": {},
   "outputs": [],
   "source": []
  }
 ],
 "metadata": {
  "kernelspec": {
   "display_name": "Python 3",
   "language": "python",
   "name": "python3"
  },
  "language_info": {
   "codemirror_mode": {
    "name": "ipython",
    "version": 3
   },
   "file_extension": ".py",
   "mimetype": "text/x-python",
   "name": "python",
   "nbconvert_exporter": "python",
   "pygments_lexer": "ipython3",
   "version": "3.8.5"
  },
  "toc": {
   "base_numbering": 1,
   "nav_menu": {},
   "number_sections": true,
   "sideBar": true,
   "skip_h1_title": false,
   "title_cell": "Table of Contents",
   "title_sidebar": "Contents",
   "toc_cell": false,
   "toc_position": {},
   "toc_section_display": true,
   "toc_window_display": false
  }
 },
 "nbformat": 4,
 "nbformat_minor": 4
}
